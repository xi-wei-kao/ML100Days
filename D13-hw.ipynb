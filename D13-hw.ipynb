{
 "metadata": {
  "language_info": {
   "codemirror_mode": {
    "name": "ipython",
    "version": 3
   },
   "file_extension": ".py",
   "mimetype": "text/x-python",
   "name": "python",
   "nbconvert_exporter": "python",
   "pygments_lexer": "ipython3",
   "version": "3.8.5"
  },
  "orig_nbformat": 4,
  "kernelspec": {
   "name": "python3",
   "display_name": "Python 3.8.5 64-bit"
  },
  "interpreter": {
   "hash": "07efdcd4b820c98a756949507a4d29d7862823915ec7477944641bea022f4f62"
  }
 },
 "nbformat": 4,
 "nbformat_minor": 2,
 "cells": [
  {
   "source": [
    "    1. 請接下列資料依照指定規則做合併：\n",
    "    - 依照 fruit 欄位做合併\n",
    "    - 依照 index 索引做合併\n",
    "    2. [簡答題] 承上題，請問為什麼依照 merge 合併後有些資料不見了？\n",
    "    3. [簡答題] 承上題，請問為什麼依照 index 合併會發生錯誤？請用程式解決。"
   ],
   "cell_type": "markdown",
   "metadata": {}
  },
  {
   "cell_type": "code",
   "execution_count": 1,
   "metadata": {},
   "outputs": [],
   "source": [
    "import pandas as pd\n",
    "import numpy as np"
   ]
  },
  {
   "cell_type": "code",
   "execution_count": 2,
   "metadata": {},
   "outputs": [],
   "source": [
    "df1 = pd.DataFrame({\n",
    "    'fruit': ['apple', 'banana', 'orange'] * 3,\n",
    "    'weight': ['high', 'medium', 'low'] * 3,\n",
    "    'price': np.random.randint(0, 15, 9)\n",
    "})\n",
    "\n",
    "df2 = pd.DataFrame({\n",
    "    'fruit': ['apple', 'orange', 'pine'] * 2,\n",
    "    'weight': ['high', 'low'] * 3,\n",
    "    'price': np.random.randint(0, 15, 6)\n",
    "})"
   ]
  },
  {
   "cell_type": "code",
   "execution_count": 17,
   "metadata": {},
   "outputs": [
    {
     "output_type": "execute_result",
     "data": {
      "text/plain": [
       "    fruit  weight  price  text\n",
       "0   apple    high     10   0.0\n",
       "1  banana  medium      2   1.0\n",
       "2  orange     low      2   2.0\n",
       "3   apple    high      8   3.0\n",
       "4  banana  medium     11   4.0\n",
       "5  orange     low      8   NaN\n",
       "6   apple    high      4   NaN\n",
       "7  banana  medium      9   NaN\n",
       "8  orange     low     12   NaN"
      ],
      "text/html": "<div>\n<style scoped>\n    .dataframe tbody tr th:only-of-type {\n        vertical-align: middle;\n    }\n\n    .dataframe tbody tr th {\n        vertical-align: top;\n    }\n\n    .dataframe thead th {\n        text-align: right;\n    }\n</style>\n<table border=\"1\" class=\"dataframe\">\n  <thead>\n    <tr style=\"text-align: right;\">\n      <th></th>\n      <th>fruit</th>\n      <th>weight</th>\n      <th>price</th>\n      <th>text</th>\n    </tr>\n  </thead>\n  <tbody>\n    <tr>\n      <th>0</th>\n      <td>apple</td>\n      <td>high</td>\n      <td>10</td>\n      <td>0.0</td>\n    </tr>\n    <tr>\n      <th>1</th>\n      <td>banana</td>\n      <td>medium</td>\n      <td>2</td>\n      <td>1.0</td>\n    </tr>\n    <tr>\n      <th>2</th>\n      <td>orange</td>\n      <td>low</td>\n      <td>2</td>\n      <td>2.0</td>\n    </tr>\n    <tr>\n      <th>3</th>\n      <td>apple</td>\n      <td>high</td>\n      <td>8</td>\n      <td>3.0</td>\n    </tr>\n    <tr>\n      <th>4</th>\n      <td>banana</td>\n      <td>medium</td>\n      <td>11</td>\n      <td>4.0</td>\n    </tr>\n    <tr>\n      <th>5</th>\n      <td>orange</td>\n      <td>low</td>\n      <td>8</td>\n      <td>NaN</td>\n    </tr>\n    <tr>\n      <th>6</th>\n      <td>apple</td>\n      <td>high</td>\n      <td>4</td>\n      <td>NaN</td>\n    </tr>\n    <tr>\n      <th>7</th>\n      <td>banana</td>\n      <td>medium</td>\n      <td>9</td>\n      <td>NaN</td>\n    </tr>\n    <tr>\n      <th>8</th>\n      <td>orange</td>\n      <td>low</td>\n      <td>12</td>\n      <td>NaN</td>\n    </tr>\n  </tbody>\n</table>\n</div>"
     },
     "metadata": {},
     "execution_count": 17
    }
   ],
   "source": [
    "df1"
   ]
  },
  {
   "cell_type": "code",
   "execution_count": 18,
   "metadata": {},
   "outputs": [
    {
     "output_type": "execute_result",
     "data": {
      "text/plain": [
       "    fruit weight  price\n",
       "0   apple   high      5\n",
       "1  orange    low      4\n",
       "2    pine   high     11\n",
       "3   apple    low     14\n",
       "4  orange   high     13\n",
       "5    pine    low     10"
      ],
      "text/html": "<div>\n<style scoped>\n    .dataframe tbody tr th:only-of-type {\n        vertical-align: middle;\n    }\n\n    .dataframe tbody tr th {\n        vertical-align: top;\n    }\n\n    .dataframe thead th {\n        text-align: right;\n    }\n</style>\n<table border=\"1\" class=\"dataframe\">\n  <thead>\n    <tr style=\"text-align: right;\">\n      <th></th>\n      <th>fruit</th>\n      <th>weight</th>\n      <th>price</th>\n    </tr>\n  </thead>\n  <tbody>\n    <tr>\n      <th>0</th>\n      <td>apple</td>\n      <td>high</td>\n      <td>5</td>\n    </tr>\n    <tr>\n      <th>1</th>\n      <td>orange</td>\n      <td>low</td>\n      <td>4</td>\n    </tr>\n    <tr>\n      <th>2</th>\n      <td>pine</td>\n      <td>high</td>\n      <td>11</td>\n    </tr>\n    <tr>\n      <th>3</th>\n      <td>apple</td>\n      <td>low</td>\n      <td>14</td>\n    </tr>\n    <tr>\n      <th>4</th>\n      <td>orange</td>\n      <td>high</td>\n      <td>13</td>\n    </tr>\n    <tr>\n      <th>5</th>\n      <td>pine</td>\n      <td>low</td>\n      <td>10</td>\n    </tr>\n  </tbody>\n</table>\n</div>"
     },
     "metadata": {},
     "execution_count": 18
    }
   ],
   "source": [
    "df2"
   ]
  },
  {
   "cell_type": "code",
   "execution_count": 19,
   "metadata": {},
   "outputs": [],
   "source": [
    "    # - 依照 fruit 欄位做合併\n",
    "df3 = pd.merge(df1, df2, how=\"outer\", on=[\"fruit\", \"fruit\"])"
   ]
  },
  {
   "cell_type": "code",
   "execution_count": 20,
   "metadata": {},
   "outputs": [
    {
     "output_type": "execute_result",
     "data": {
      "text/plain": [
       "     fruit weight_x  price_x  text weight_y  price_y\n",
       "0    apple     high     10.0   0.0     high      5.0\n",
       "1    apple     high     10.0   0.0      low     14.0\n",
       "2    apple     high      8.0   3.0     high      5.0\n",
       "3    apple     high      8.0   3.0      low     14.0\n",
       "4    apple     high      4.0   NaN     high      5.0\n",
       "5    apple     high      4.0   NaN      low     14.0\n",
       "6   banana   medium      2.0   1.0      NaN      NaN\n",
       "7   banana   medium     11.0   4.0      NaN      NaN\n",
       "8   banana   medium      9.0   NaN      NaN      NaN\n",
       "9   orange      low      2.0   2.0      low      4.0\n",
       "10  orange      low      2.0   2.0     high     13.0\n",
       "11  orange      low      8.0   NaN      low      4.0\n",
       "12  orange      low      8.0   NaN     high     13.0\n",
       "13  orange      low     12.0   NaN      low      4.0\n",
       "14  orange      low     12.0   NaN     high     13.0\n",
       "15    pine      NaN      NaN   NaN     high     11.0\n",
       "16    pine      NaN      NaN   NaN      low     10.0"
      ],
      "text/html": "<div>\n<style scoped>\n    .dataframe tbody tr th:only-of-type {\n        vertical-align: middle;\n    }\n\n    .dataframe tbody tr th {\n        vertical-align: top;\n    }\n\n    .dataframe thead th {\n        text-align: right;\n    }\n</style>\n<table border=\"1\" class=\"dataframe\">\n  <thead>\n    <tr style=\"text-align: right;\">\n      <th></th>\n      <th>fruit</th>\n      <th>weight_x</th>\n      <th>price_x</th>\n      <th>text</th>\n      <th>weight_y</th>\n      <th>price_y</th>\n    </tr>\n  </thead>\n  <tbody>\n    <tr>\n      <th>0</th>\n      <td>apple</td>\n      <td>high</td>\n      <td>10.0</td>\n      <td>0.0</td>\n      <td>high</td>\n      <td>5.0</td>\n    </tr>\n    <tr>\n      <th>1</th>\n      <td>apple</td>\n      <td>high</td>\n      <td>10.0</td>\n      <td>0.0</td>\n      <td>low</td>\n      <td>14.0</td>\n    </tr>\n    <tr>\n      <th>2</th>\n      <td>apple</td>\n      <td>high</td>\n      <td>8.0</td>\n      <td>3.0</td>\n      <td>high</td>\n      <td>5.0</td>\n    </tr>\n    <tr>\n      <th>3</th>\n      <td>apple</td>\n      <td>high</td>\n      <td>8.0</td>\n      <td>3.0</td>\n      <td>low</td>\n      <td>14.0</td>\n    </tr>\n    <tr>\n      <th>4</th>\n      <td>apple</td>\n      <td>high</td>\n      <td>4.0</td>\n      <td>NaN</td>\n      <td>high</td>\n      <td>5.0</td>\n    </tr>\n    <tr>\n      <th>5</th>\n      <td>apple</td>\n      <td>high</td>\n      <td>4.0</td>\n      <td>NaN</td>\n      <td>low</td>\n      <td>14.0</td>\n    </tr>\n    <tr>\n      <th>6</th>\n      <td>banana</td>\n      <td>medium</td>\n      <td>2.0</td>\n      <td>1.0</td>\n      <td>NaN</td>\n      <td>NaN</td>\n    </tr>\n    <tr>\n      <th>7</th>\n      <td>banana</td>\n      <td>medium</td>\n      <td>11.0</td>\n      <td>4.0</td>\n      <td>NaN</td>\n      <td>NaN</td>\n    </tr>\n    <tr>\n      <th>8</th>\n      <td>banana</td>\n      <td>medium</td>\n      <td>9.0</td>\n      <td>NaN</td>\n      <td>NaN</td>\n      <td>NaN</td>\n    </tr>\n    <tr>\n      <th>9</th>\n      <td>orange</td>\n      <td>low</td>\n      <td>2.0</td>\n      <td>2.0</td>\n      <td>low</td>\n      <td>4.0</td>\n    </tr>\n    <tr>\n      <th>10</th>\n      <td>orange</td>\n      <td>low</td>\n      <td>2.0</td>\n      <td>2.0</td>\n      <td>high</td>\n      <td>13.0</td>\n    </tr>\n    <tr>\n      <th>11</th>\n      <td>orange</td>\n      <td>low</td>\n      <td>8.0</td>\n      <td>NaN</td>\n      <td>low</td>\n      <td>4.0</td>\n    </tr>\n    <tr>\n      <th>12</th>\n      <td>orange</td>\n      <td>low</td>\n      <td>8.0</td>\n      <td>NaN</td>\n      <td>high</td>\n      <td>13.0</td>\n    </tr>\n    <tr>\n      <th>13</th>\n      <td>orange</td>\n      <td>low</td>\n      <td>12.0</td>\n      <td>NaN</td>\n      <td>low</td>\n      <td>4.0</td>\n    </tr>\n    <tr>\n      <th>14</th>\n      <td>orange</td>\n      <td>low</td>\n      <td>12.0</td>\n      <td>NaN</td>\n      <td>high</td>\n      <td>13.0</td>\n    </tr>\n    <tr>\n      <th>15</th>\n      <td>pine</td>\n      <td>NaN</td>\n      <td>NaN</td>\n      <td>NaN</td>\n      <td>high</td>\n      <td>11.0</td>\n    </tr>\n    <tr>\n      <th>16</th>\n      <td>pine</td>\n      <td>NaN</td>\n      <td>NaN</td>\n      <td>NaN</td>\n      <td>low</td>\n      <td>10.0</td>\n    </tr>\n  </tbody>\n</table>\n</div>"
     },
     "metadata": {},
     "execution_count": 20
    }
   ],
   "source": [
    "df3 # 以［水果］做聯集合併~"
   ]
  },
  {
   "cell_type": "code",
   "execution_count": 27,
   "metadata": {},
   "outputs": [],
   "source": [
    "    # - 依照 index 索引做合併\n",
    "df1[\"text\"] = pd.Series(np.arange(9))\n",
    "df2[\"text\"] = pd.Series(np.arange(9))"
   ]
  },
  {
   "cell_type": "code",
   "execution_count": 28,
   "metadata": {},
   "outputs": [
    {
     "output_type": "execute_result",
     "data": {
      "text/plain": [
       "    fruit  weight  price  text\n",
       "0   apple    high     10     0\n",
       "1  banana  medium      2     1\n",
       "2  orange     low      2     2\n",
       "3   apple    high      8     3\n",
       "4  banana  medium     11     4\n",
       "5  orange     low      8     5\n",
       "6   apple    high      4     6\n",
       "7  banana  medium      9     7\n",
       "8  orange     low     12     8"
      ],
      "text/html": "<div>\n<style scoped>\n    .dataframe tbody tr th:only-of-type {\n        vertical-align: middle;\n    }\n\n    .dataframe tbody tr th {\n        vertical-align: top;\n    }\n\n    .dataframe thead th {\n        text-align: right;\n    }\n</style>\n<table border=\"1\" class=\"dataframe\">\n  <thead>\n    <tr style=\"text-align: right;\">\n      <th></th>\n      <th>fruit</th>\n      <th>weight</th>\n      <th>price</th>\n      <th>text</th>\n    </tr>\n  </thead>\n  <tbody>\n    <tr>\n      <th>0</th>\n      <td>apple</td>\n      <td>high</td>\n      <td>10</td>\n      <td>0</td>\n    </tr>\n    <tr>\n      <th>1</th>\n      <td>banana</td>\n      <td>medium</td>\n      <td>2</td>\n      <td>1</td>\n    </tr>\n    <tr>\n      <th>2</th>\n      <td>orange</td>\n      <td>low</td>\n      <td>2</td>\n      <td>2</td>\n    </tr>\n    <tr>\n      <th>3</th>\n      <td>apple</td>\n      <td>high</td>\n      <td>8</td>\n      <td>3</td>\n    </tr>\n    <tr>\n      <th>4</th>\n      <td>banana</td>\n      <td>medium</td>\n      <td>11</td>\n      <td>4</td>\n    </tr>\n    <tr>\n      <th>5</th>\n      <td>orange</td>\n      <td>low</td>\n      <td>8</td>\n      <td>5</td>\n    </tr>\n    <tr>\n      <th>6</th>\n      <td>apple</td>\n      <td>high</td>\n      <td>4</td>\n      <td>6</td>\n    </tr>\n    <tr>\n      <th>7</th>\n      <td>banana</td>\n      <td>medium</td>\n      <td>9</td>\n      <td>7</td>\n    </tr>\n    <tr>\n      <th>8</th>\n      <td>orange</td>\n      <td>low</td>\n      <td>12</td>\n      <td>8</td>\n    </tr>\n  </tbody>\n</table>\n</div>"
     },
     "metadata": {},
     "execution_count": 28
    }
   ],
   "source": [
    "df1"
   ]
  },
  {
   "cell_type": "code",
   "execution_count": 29,
   "metadata": {},
   "outputs": [
    {
     "output_type": "execute_result",
     "data": {
      "text/plain": [
       "    fruit weight  price  text\n",
       "0   apple   high      5     0\n",
       "1  orange    low      4     1\n",
       "2    pine   high     11     2\n",
       "3   apple    low     14     3\n",
       "4  orange   high     13     4\n",
       "5    pine    low     10     5"
      ],
      "text/html": "<div>\n<style scoped>\n    .dataframe tbody tr th:only-of-type {\n        vertical-align: middle;\n    }\n\n    .dataframe tbody tr th {\n        vertical-align: top;\n    }\n\n    .dataframe thead th {\n        text-align: right;\n    }\n</style>\n<table border=\"1\" class=\"dataframe\">\n  <thead>\n    <tr style=\"text-align: right;\">\n      <th></th>\n      <th>fruit</th>\n      <th>weight</th>\n      <th>price</th>\n      <th>text</th>\n    </tr>\n  </thead>\n  <tbody>\n    <tr>\n      <th>0</th>\n      <td>apple</td>\n      <td>high</td>\n      <td>5</td>\n      <td>0</td>\n    </tr>\n    <tr>\n      <th>1</th>\n      <td>orange</td>\n      <td>low</td>\n      <td>4</td>\n      <td>1</td>\n    </tr>\n    <tr>\n      <th>2</th>\n      <td>pine</td>\n      <td>high</td>\n      <td>11</td>\n      <td>2</td>\n    </tr>\n    <tr>\n      <th>3</th>\n      <td>apple</td>\n      <td>low</td>\n      <td>14</td>\n      <td>3</td>\n    </tr>\n    <tr>\n      <th>4</th>\n      <td>orange</td>\n      <td>high</td>\n      <td>13</td>\n      <td>4</td>\n    </tr>\n    <tr>\n      <th>5</th>\n      <td>pine</td>\n      <td>low</td>\n      <td>10</td>\n      <td>5</td>\n    </tr>\n  </tbody>\n</table>\n</div>"
     },
     "metadata": {},
     "execution_count": 29
    }
   ],
   "source": [
    "df2"
   ]
  },
  {
   "cell_type": "code",
   "execution_count": 30,
   "metadata": {},
   "outputs": [],
   "source": [
    "df3 = pd.merge(df1, df2, how=\"outer\", on=[\"text\", \"text\"])"
   ]
  },
  {
   "cell_type": "code",
   "execution_count": 32,
   "metadata": {},
   "outputs": [
    {
     "output_type": "execute_result",
     "data": {
      "text/plain": [
       "  fruit_x weight_x  price_x  text fruit_y weight_y  price_y\n",
       "0   apple     high       10     0   apple     high      5.0\n",
       "1  banana   medium        2     1  orange      low      4.0\n",
       "2  orange      low        2     2    pine     high     11.0\n",
       "3   apple     high        8     3   apple      low     14.0\n",
       "4  banana   medium       11     4  orange     high     13.0\n",
       "5  orange      low        8     5    pine      low     10.0\n",
       "6   apple     high        4     6     NaN      NaN      NaN\n",
       "7  banana   medium        9     7     NaN      NaN      NaN\n",
       "8  orange      low       12     8     NaN      NaN      NaN"
      ],
      "text/html": "<div>\n<style scoped>\n    .dataframe tbody tr th:only-of-type {\n        vertical-align: middle;\n    }\n\n    .dataframe tbody tr th {\n        vertical-align: top;\n    }\n\n    .dataframe thead th {\n        text-align: right;\n    }\n</style>\n<table border=\"1\" class=\"dataframe\">\n  <thead>\n    <tr style=\"text-align: right;\">\n      <th></th>\n      <th>fruit_x</th>\n      <th>weight_x</th>\n      <th>price_x</th>\n      <th>text</th>\n      <th>fruit_y</th>\n      <th>weight_y</th>\n      <th>price_y</th>\n    </tr>\n  </thead>\n  <tbody>\n    <tr>\n      <th>0</th>\n      <td>apple</td>\n      <td>high</td>\n      <td>10</td>\n      <td>0</td>\n      <td>apple</td>\n      <td>high</td>\n      <td>5.0</td>\n    </tr>\n    <tr>\n      <th>1</th>\n      <td>banana</td>\n      <td>medium</td>\n      <td>2</td>\n      <td>1</td>\n      <td>orange</td>\n      <td>low</td>\n      <td>4.0</td>\n    </tr>\n    <tr>\n      <th>2</th>\n      <td>orange</td>\n      <td>low</td>\n      <td>2</td>\n      <td>2</td>\n      <td>pine</td>\n      <td>high</td>\n      <td>11.0</td>\n    </tr>\n    <tr>\n      <th>3</th>\n      <td>apple</td>\n      <td>high</td>\n      <td>8</td>\n      <td>3</td>\n      <td>apple</td>\n      <td>low</td>\n      <td>14.0</td>\n    </tr>\n    <tr>\n      <th>4</th>\n      <td>banana</td>\n      <td>medium</td>\n      <td>11</td>\n      <td>4</td>\n      <td>orange</td>\n      <td>high</td>\n      <td>13.0</td>\n    </tr>\n    <tr>\n      <th>5</th>\n      <td>orange</td>\n      <td>low</td>\n      <td>8</td>\n      <td>5</td>\n      <td>pine</td>\n      <td>low</td>\n      <td>10.0</td>\n    </tr>\n    <tr>\n      <th>6</th>\n      <td>apple</td>\n      <td>high</td>\n      <td>4</td>\n      <td>6</td>\n      <td>NaN</td>\n      <td>NaN</td>\n      <td>NaN</td>\n    </tr>\n    <tr>\n      <th>7</th>\n      <td>banana</td>\n      <td>medium</td>\n      <td>9</td>\n      <td>7</td>\n      <td>NaN</td>\n      <td>NaN</td>\n      <td>NaN</td>\n    </tr>\n    <tr>\n      <th>8</th>\n      <td>orange</td>\n      <td>low</td>\n      <td>12</td>\n      <td>8</td>\n      <td>NaN</td>\n      <td>NaN</td>\n      <td>NaN</td>\n    </tr>\n  </tbody>\n</table>\n</div>"
     },
     "metadata": {},
     "execution_count": 32
    }
   ],
   "source": [
    "df3 # 以［索引］作聯集合併"
   ]
  },
  {
   "cell_type": "code",
   "execution_count": 33,
   "metadata": {},
   "outputs": [],
   "source": [
    "# 2. [簡答題] 承上題，請問為什麼依照 merge 合併後有些資料不見了？\n",
    "    # 因為此類水果(fruit)，或此類索引(text)，只有其中一組資料集有樣本，另一組沒有，就產生遺漏資料。"
   ]
  },
  {
   "cell_type": "code",
   "execution_count": 34,
   "metadata": {},
   "outputs": [
    {
     "output_type": "execute_result",
     "data": {
      "text/plain": [
       "  fruit_x weight_x  price_x  text fruit_y weight_y  price_y\n",
       "0   apple     high       10     0   apple     high      5.0\n",
       "1  banana   medium        2     1  orange      low      4.0\n",
       "2  orange      low        2     2    pine     high     11.0\n",
       "3   apple     high        8     3   apple      low     14.0\n",
       "4  banana   medium       11     4  orange     high     13.0\n",
       "5  orange      low        8     5    pine      low     10.0\n",
       "6   apple     high        4     6     NaN      NaN      NaN\n",
       "7  banana   medium        9     7     NaN      NaN      NaN\n",
       "8  orange      low       12     8     NaN      NaN      NaN"
      ],
      "text/html": "<div>\n<style scoped>\n    .dataframe tbody tr th:only-of-type {\n        vertical-align: middle;\n    }\n\n    .dataframe tbody tr th {\n        vertical-align: top;\n    }\n\n    .dataframe thead th {\n        text-align: right;\n    }\n</style>\n<table border=\"1\" class=\"dataframe\">\n  <thead>\n    <tr style=\"text-align: right;\">\n      <th></th>\n      <th>fruit_x</th>\n      <th>weight_x</th>\n      <th>price_x</th>\n      <th>text</th>\n      <th>fruit_y</th>\n      <th>weight_y</th>\n      <th>price_y</th>\n    </tr>\n  </thead>\n  <tbody>\n    <tr>\n      <th>0</th>\n      <td>apple</td>\n      <td>high</td>\n      <td>10</td>\n      <td>0</td>\n      <td>apple</td>\n      <td>high</td>\n      <td>5.0</td>\n    </tr>\n    <tr>\n      <th>1</th>\n      <td>banana</td>\n      <td>medium</td>\n      <td>2</td>\n      <td>1</td>\n      <td>orange</td>\n      <td>low</td>\n      <td>4.0</td>\n    </tr>\n    <tr>\n      <th>2</th>\n      <td>orange</td>\n      <td>low</td>\n      <td>2</td>\n      <td>2</td>\n      <td>pine</td>\n      <td>high</td>\n      <td>11.0</td>\n    </tr>\n    <tr>\n      <th>3</th>\n      <td>apple</td>\n      <td>high</td>\n      <td>8</td>\n      <td>3</td>\n      <td>apple</td>\n      <td>low</td>\n      <td>14.0</td>\n    </tr>\n    <tr>\n      <th>4</th>\n      <td>banana</td>\n      <td>medium</td>\n      <td>11</td>\n      <td>4</td>\n      <td>orange</td>\n      <td>high</td>\n      <td>13.0</td>\n    </tr>\n    <tr>\n      <th>5</th>\n      <td>orange</td>\n      <td>low</td>\n      <td>8</td>\n      <td>5</td>\n      <td>pine</td>\n      <td>low</td>\n      <td>10.0</td>\n    </tr>\n    <tr>\n      <th>6</th>\n      <td>apple</td>\n      <td>high</td>\n      <td>4</td>\n      <td>6</td>\n      <td>NaN</td>\n      <td>NaN</td>\n      <td>NaN</td>\n    </tr>\n    <tr>\n      <th>7</th>\n      <td>banana</td>\n      <td>medium</td>\n      <td>9</td>\n      <td>7</td>\n      <td>NaN</td>\n      <td>NaN</td>\n      <td>NaN</td>\n    </tr>\n    <tr>\n      <th>8</th>\n      <td>orange</td>\n      <td>low</td>\n      <td>12</td>\n      <td>8</td>\n      <td>NaN</td>\n      <td>NaN</td>\n      <td>NaN</td>\n    </tr>\n  </tbody>\n</table>\n</div>"
     },
     "metadata": {},
     "execution_count": 34
    }
   ],
   "source": [
    "# 3. [簡答題] 承上題，請問為什麼依照 index 合併會發生錯誤？請用程式解決。\n",
    "    # index並非變數, 無法作為合併的連接變數使用, 透過加入新一欄值同於索引的變數作為連接變數來進行資料合併。\n",
    "df3 # 製作 text 變數來合併"
   ]
  },
  {
   "cell_type": "code",
   "execution_count": null,
   "metadata": {},
   "outputs": [],
   "source": []
  }
 ]
}