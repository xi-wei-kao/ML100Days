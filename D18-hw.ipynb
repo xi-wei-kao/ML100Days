{
 "metadata": {
  "language_info": {
   "codemirror_mode": {
    "name": "ipython",
    "version": 3
   },
   "file_extension": ".py",
   "mimetype": "text/x-python",
   "name": "python",
   "nbconvert_exporter": "python",
   "pygments_lexer": "ipython3",
   "version": 3
  },
  "orig_nbformat": 4
 },
 "nbformat": 4,
 "nbformat_minor": 2,
 "cells": [
  {
   "source": [
    "題目 : \n",
    "\n",
    "    1. 在速度較慢的時候，可以先從哪邊開始檢查？\n",
    "    2. 資料過大時應採取什麼方式讓記憶體占用量下降？\n"
   ],
   "cell_type": "markdown",
   "metadata": {}
  },
  {
   "cell_type": "code",
   "execution_count": null,
   "metadata": {},
   "outputs": [],
   "source": [
    "# 1. \n",
    "#   a. 可以先檢查讀取的資料類型, 若用 xlsx 可改用 csv 或是 pkl 讀取快更多。\n",
    "#   b. 檢查使用的函式, 盡量運用 python 內建的函式方法(如 apply(lambda:x, ~))更快速\n",
    "#   c. 若用 DataFrame 可先將資料轉為 Numpy 的多維陣列進行運算速度較快; 以及可將資料向量化計算速度更快\n",
    "\n",
    "# 2.\n",
    "#   a. (將資料型態進行降階:小數點更少) → 例如 float64 佔記憶體太大, 降為 float32 或是 int 可以降低儲存記憶體空間"
   ]
  }
 ]
}