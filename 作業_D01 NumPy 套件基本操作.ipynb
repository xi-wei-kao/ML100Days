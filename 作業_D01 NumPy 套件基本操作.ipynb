{
 "cells": [
  {
   "cell_type": "code",
   "execution_count": null,
   "metadata": {
    "id": "5aWZnhxBD2p2"
   },
   "outputs": [],
   "source": [
    "作業目標:<br>\n",
    "在array中，可以靈活應用索引幫助資料擷取<br>\n",
    "作業重點:<br>\n",
    "陣列的索引、切片、以及屬性，皆需要注意使用方式<br>\n",
    "陣列之中索引式由0開始請同學注意"
   ]
  },
  {
   "cell_type": "markdown",
   "metadata": {
    "id": "Ec7jpEEnD4rj"
   },
   "source": [
    "題目:<br>\n",
    "1.生成一個等差數列，首數為0，尾數為20，公差為1的數列。<br>\n",
    "2.呈上題，將以上數列取出偶數。<br>\n",
    "3.呈1題，將數列取出3的倍數。<br>"
   ]
  },
  {
   "cell_type": "code",
   "execution_count": 28,
   "metadata": {
    "id": "NfVTcwauD3rg"
   },
   "outputs": [],
   "source": [
    "import numpy as np"
   ]
  },
  {
   "cell_type": "code",
   "execution_count": 50,
   "metadata": {
    "id": "QrOaxfmeEpvo",
    "scrolled": true
   },
   "outputs": [
    {
     "name": "stdout",
     "output_type": "stream",
     "text": [
      "[ 0  1  2  3  4  5  6  7  8  9 10 11 12 13 14 15 16 17 18 19 20]\n"
     ]
    }
   ],
   "source": [
    "#1.生成一個等差數列，首數為0，尾數為20，公差為1的數列。\n",
    "arrsn=np.arange(21)\n",
    "print(arrsn)"
   ]
  },
  {
   "cell_type": "code",
   "execution_count": 71,
   "metadata": {
    "id": "5FFeFSvoEtRP"
   },
   "outputs": [
    {
     "name": "stdout",
     "output_type": "stream",
     "text": [
      "[0. 0. 0. 0. 0. 0. 0. 0. 0. 0. 0.]\n",
      "[ 0.  2.  4.  6.  8. 10. 12. 14. 16. 18. 20.]\n"
     ]
    }
   ],
   "source": [
    "#2.呈上題，將以上數列取出偶數。\n",
    "arrsn_even=np.zeros(int(len(arrsn)/2+1))\n",
    "temp=0\n",
    "print(arrsn_even)\n",
    "for n in range(0,np.size(arrsn_even)*2,2):\n",
    "    arrsn_even[temp]=n\n",
    "    temp=temp+1\n",
    "print(arrsn_even)"
   ]
  },
  {
   "cell_type": "code",
   "execution_count": 94,
   "metadata": {
    "id": "7-HcNGFsFD-_"
   },
   "outputs": [
    {
     "name": "stdout",
     "output_type": "stream",
     "text": [
      "[0. 0. 0. 0. 0. 0. 0. 0. 0. 0.]\n",
      "[ 0.  3.  6.  9. 12. 15. 18.  0.  0.  0.]\n",
      "[ 0.  3.  6.  9. 12. 15. 18.]\n"
     ]
    }
   ],
   "source": [
    "#3.呈1題，將數列取出3的倍數。\n",
    "arrsn_3=np.zeros(10)\n",
    "temp=0\n",
    "print(arrsn_3)\n",
    "for n in range(0,np.size(arrsn),1):\n",
    "    if (arrsn[n]%3==0):\n",
    "        arrsn_3[temp]=n\n",
    "        temp=temp+1\n",
    "print(arrsn_3)\n",
    "arrsn_3.resize(7)\n",
    "print(arrsn_3)"
   ]
  },
  {
   "cell_type": "code",
   "execution_count": 81,
   "metadata": {
    "id": "6_6Emob-FHn3"
   },
   "outputs": [
    {
     "name": "stdout",
     "output_type": "stream",
     "text": [
      "0\n",
      "1\n",
      "2\n",
      "3\n",
      "4\n",
      "5\n",
      "6\n",
      "7\n",
      "8\n",
      "9\n",
      "10\n",
      "11\n",
      "12\n",
      "13\n",
      "14\n",
      "15\n",
      "16\n",
      "17\n",
      "18\n",
      "19\n"
     ]
    }
   ],
   "source": []
  },
  {
   "cell_type": "code",
   "execution_count": null,
   "metadata": {},
   "outputs": [],
   "source": []
  }
 ],
 "metadata": {
  "colab": {
   "collapsed_sections": [],
   "name": "作業題目.ipynb",
   "provenance": []
  },
  "kernelspec": {
   "display_name": "Python 3",
   "language": "python",
   "name": "python3"
  },
  "language_info": {
   "codemirror_mode": {
    "name": "ipython",
    "version": 3
   },
   "file_extension": ".py",
   "mimetype": "text/x-python",
   "name": "python",
   "nbconvert_exporter": "python",
   "pygments_lexer": "ipython3",
   "version": "3.8.5"
  }
 },
 "nbformat": 4,
 "nbformat_minor": 1
}
