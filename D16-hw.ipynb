{
 "metadata": {
  "language_info": {
   "codemirror_mode": {
    "name": "ipython",
    "version": 3
   },
   "file_extension": ".py",
   "mimetype": "text/x-python",
   "name": "python",
   "nbconvert_exporter": "python",
   "pygments_lexer": "ipython3",
   "version": "3.8.5"
  },
  "orig_nbformat": 4,
  "kernelspec": {
   "name": "python3",
   "display_name": "Python 3.8.5 64-bit (conda)"
  },
  "interpreter": {
   "hash": "07efdcd4b820c98a756949507a4d29d7862823915ec7477944641bea022f4f62"
  }
 },
 "nbformat": 4,
 "nbformat_minor": 2,
 "cells": [
  {
   "source": [
    "作業目標:\n",
    "\n",
    "    熟悉分組計算\n",
    "\n",
    "作業重點:\n",
    "\n",
    "    分組計算也可以加入apply自定義的函數\n",
    "\n",
    "題目 : 運用下列分數資料分析\n",
    "\n",
    "    找出全年級各科成績最高分與最低分?\n",
    "    找出數學班平均最高的班級?\n",
    "    分析全校女生與男生國文平均差幾分?\n",
    "    score_df = pd.DataFrame([[1,50,80,70,'boy',1],[2,60,45,50,'boy',2],[3,98,43,55,'boy',1],[4,70,69,89,'boy',2],[5,56,79,60,'girl',1],[6,60,68,55,'girl',2],[7,45,70,77,'girl',1],[8,55,77,76,'girl',2],[9,25,57,60,'girl',1],[10,88,40,43,'girl',3],[11,25,60,45,'boy',3],[12,80,60,23,'boy',3],[13,20,90,66,'girl',3],[14,50,50,50,'girl',3],[15,89,67,77,'girl',3]],columns=['student_id','math_score','english_score','chinese_score','sex','class'])\n",
    "\n"
   ],
   "cell_type": "markdown",
   "metadata": {}
  },
  {
   "cell_type": "code",
   "execution_count": 2,
   "metadata": {},
   "outputs": [],
   "source": [
    "import pandas as pd\n",
    "import numpy as np"
   ]
  },
  {
   "cell_type": "code",
   "execution_count": 3,
   "metadata": {},
   "outputs": [],
   "source": [
    "score_df = pd.DataFrame([[1,50,80,70,'boy',1],[2,60,45,50,'boy',2],\n",
    "                        [3,98,43,55,'boy',1],[4,70,69,89,'boy',2],\n",
    "                        [5,56,79,60,'girl',1],[6,60,68,55,'girl',2],\n",
    "                        [7,45,70,77,'girl',1],[8,55,77,76,'girl',2],\n",
    "                        [9,25,57,60,'girl',1],[10,88,40,43,'girl',3],\n",
    "                        [11,25,60,45,'boy',3],[12,80,60,23,'boy',3],\n",
    "                        [13,20,90,66,'girl',3],[14,50,50,50,'girl',3],\n",
    "                        [15,89,67,77,'girl',3]],columns=['student_id','math_score'\n",
    "                        ,'english_score','chinese_score','sex','class'])"
   ]
  },
  {
   "cell_type": "code",
   "execution_count": 7,
   "metadata": {},
   "outputs": [
    {
     "output_type": "execute_result",
     "data": {
      "text/plain": [
       "   student_id  math_score  english_score  chinese_score   sex  class\n",
       "0           1          50             80             70   boy      1\n",
       "1           2          60             45             50   boy      2\n",
       "2           3          98             43             55   boy      1\n",
       "3           4          70             69             89   boy      2\n",
       "4           5          56             79             60  girl      1"
      ],
      "text/html": "<div>\n<style scoped>\n    .dataframe tbody tr th:only-of-type {\n        vertical-align: middle;\n    }\n\n    .dataframe tbody tr th {\n        vertical-align: top;\n    }\n\n    .dataframe thead th {\n        text-align: right;\n    }\n</style>\n<table border=\"1\" class=\"dataframe\">\n  <thead>\n    <tr style=\"text-align: right;\">\n      <th></th>\n      <th>student_id</th>\n      <th>math_score</th>\n      <th>english_score</th>\n      <th>chinese_score</th>\n      <th>sex</th>\n      <th>class</th>\n    </tr>\n  </thead>\n  <tbody>\n    <tr>\n      <th>0</th>\n      <td>1</td>\n      <td>50</td>\n      <td>80</td>\n      <td>70</td>\n      <td>boy</td>\n      <td>1</td>\n    </tr>\n    <tr>\n      <th>1</th>\n      <td>2</td>\n      <td>60</td>\n      <td>45</td>\n      <td>50</td>\n      <td>boy</td>\n      <td>2</td>\n    </tr>\n    <tr>\n      <th>2</th>\n      <td>3</td>\n      <td>98</td>\n      <td>43</td>\n      <td>55</td>\n      <td>boy</td>\n      <td>1</td>\n    </tr>\n    <tr>\n      <th>3</th>\n      <td>4</td>\n      <td>70</td>\n      <td>69</td>\n      <td>89</td>\n      <td>boy</td>\n      <td>2</td>\n    </tr>\n    <tr>\n      <th>4</th>\n      <td>5</td>\n      <td>56</td>\n      <td>79</td>\n      <td>60</td>\n      <td>girl</td>\n      <td>1</td>\n    </tr>\n  </tbody>\n</table>\n</div>"
     },
     "metadata": {},
     "execution_count": 7
    }
   ],
   "source": [
    "score_df.head()"
   ]
  },
  {
   "cell_type": "code",
   "execution_count": 9,
   "metadata": {},
   "outputs": [
    {
     "output_type": "stream",
     "name": "stdout",
     "text": [
      "*1. 數學最高:\n    student_id  math_score  english_score  chinese_score  sex  class\n2           3          98             43             55  boy      1\n*2. 英文最高:\n     student_id  math_score  english_score  chinese_score   sex  class\n12          13          20             90             66  girl      3\n*3. 國文最高:\n    student_id  math_score  english_score  chinese_score  sex  class\n3           4          70             69             89  boy      2\n"
     ]
    }
   ],
   "source": [
    "# 1. 找出全年級各科成績最高分與最低分?\n",
    "condition_math = score_df[\"math_score\"] == score_df[\"math_score\"].max()\n",
    "condition_english = score_df[\"english_score\"] == score_df[\"english_score\"].max()\n",
    "condition_chinese = score_df[\"chinese_score\"] == score_df[\"chinese_score\"].max()\n",
    "print(\"*1. 數學最高:\\n\", score_df[condition_math])\n",
    "print(\"*2. 英文最高:\\n\", score_df[condition_english])\n",
    "print(\"*3. 國文最高:\\n\", score_df[condition_chinese])"
   ]
  },
  {
   "cell_type": "code",
   "execution_count": 14,
   "metadata": {},
   "outputs": [
    {
     "output_type": "stream",
     "name": "stdout",
     "text": [
      "* 數學班平均最高:\n 61.25\n"
     ]
    }
   ],
   "source": [
    "# 2. 找出數學班平均最高的班級?\n",
    "group_class = score_df.groupby([\"class\"])\n",
    "print(\"* 數學班平均最高:\\n\", group_class[\"math_score\"].mean().max())"
   ]
  },
  {
   "cell_type": "code",
   "execution_count": 22,
   "metadata": {},
   "outputs": [
    {
     "output_type": "stream",
     "name": "stdout",
     "text": [
      "* 男女國文平均差幾分:\n sex\nboy     55.333333\ngirl    62.666667\nName: chinese_score, dtype: float64 \n -7.333333333333329\n"
     ]
    }
   ],
   "source": [
    "# 3. 分析全校女生與男生國文平均差幾分?\n",
    "group_sex = score_df.groupby([\"sex\"])[\"chinese_score\"].mean()\n",
    "print(\"* 男女國文平均差幾分:\\n\",group_sex , \"\\n\", group_sex.iloc[0] - group_sex.iloc[1])"
   ]
  },
  {
   "cell_type": "code",
   "execution_count": null,
   "metadata": {},
   "outputs": [],
   "source": []
  }
 ]
}