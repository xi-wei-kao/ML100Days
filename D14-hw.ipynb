{
 "metadata": {
  "language_info": {
   "codemirror_mode": {
    "name": "ipython",
    "version": 3
   },
   "file_extension": ".py",
   "mimetype": "text/x-python",
   "name": "python",
   "nbconvert_exporter": "python",
   "pygments_lexer": "ipython3",
   "version": "3.8.5"
  },
  "orig_nbformat": 4,
  "kernelspec": {
   "name": "python3",
   "display_name": "Python 3.8.5 64-bit (conda)"
  },
  "interpreter": {
   "hash": "07efdcd4b820c98a756949507a4d29d7862823915ec7477944641bea022f4f62"
  }
 },
 "nbformat": 4,
 "nbformat_minor": 2,
 "cells": [
  {
   "source": [
    "1. [簡答題] 比較下列兩個讀入的 df 有什麼不同？為什麼造成的？"
   ],
   "cell_type": "markdown",
   "metadata": {}
  },
  {
   "cell_type": "code",
   "execution_count": 2,
   "metadata": {},
   "outputs": [],
   "source": [
    "import pandas as pd\n",
    "import numpy as np"
   ]
  },
  {
   "cell_type": "code",
   "execution_count": 3,
   "metadata": {},
   "outputs": [
    {
     "output_type": "execute_result",
     "data": {
      "text/plain": [
       "           PID  ST_NUM     ST_NAME OWN_OCCUPIED NUM_BEDROOMS NUM_BATH SQ_FT\n",
       "0  100001000.0   104.0      PUTNAM            Y            3        1  1000\n",
       "1  100002000.0   197.0   LEXINGTON            N            3      1.5    --\n",
       "2  100003000.0     NaN   LEXINGTON            N          NaN        1   850\n",
       "3  100004000.0   201.0    BERKELEY           12            1      NaN   700\n",
       "4          NaN   203.0    BERKELEY            Y            3        2  1600\n",
       "5  100006000.0   207.0    BERKELEY            Y          NaN        1   800\n",
       "6  100007000.0     NaN  WASHINGTON          NaN            2   HURLEY   950\n",
       "7  100008000.0   213.0     TREMONT            Y            1        1   NaN\n",
       "8  100009000.0   215.0     TREMONT            Y           na        2  1800"
      ],
      "text/html": "<div>\n<style scoped>\n    .dataframe tbody tr th:only-of-type {\n        vertical-align: middle;\n    }\n\n    .dataframe tbody tr th {\n        vertical-align: top;\n    }\n\n    .dataframe thead th {\n        text-align: right;\n    }\n</style>\n<table border=\"1\" class=\"dataframe\">\n  <thead>\n    <tr style=\"text-align: right;\">\n      <th></th>\n      <th>PID</th>\n      <th>ST_NUM</th>\n      <th>ST_NAME</th>\n      <th>OWN_OCCUPIED</th>\n      <th>NUM_BEDROOMS</th>\n      <th>NUM_BATH</th>\n      <th>SQ_FT</th>\n    </tr>\n  </thead>\n  <tbody>\n    <tr>\n      <th>0</th>\n      <td>100001000.0</td>\n      <td>104.0</td>\n      <td>PUTNAM</td>\n      <td>Y</td>\n      <td>3</td>\n      <td>1</td>\n      <td>1000</td>\n    </tr>\n    <tr>\n      <th>1</th>\n      <td>100002000.0</td>\n      <td>197.0</td>\n      <td>LEXINGTON</td>\n      <td>N</td>\n      <td>3</td>\n      <td>1.5</td>\n      <td>--</td>\n    </tr>\n    <tr>\n      <th>2</th>\n      <td>100003000.0</td>\n      <td>NaN</td>\n      <td>LEXINGTON</td>\n      <td>N</td>\n      <td>NaN</td>\n      <td>1</td>\n      <td>850</td>\n    </tr>\n    <tr>\n      <th>3</th>\n      <td>100004000.0</td>\n      <td>201.0</td>\n      <td>BERKELEY</td>\n      <td>12</td>\n      <td>1</td>\n      <td>NaN</td>\n      <td>700</td>\n    </tr>\n    <tr>\n      <th>4</th>\n      <td>NaN</td>\n      <td>203.0</td>\n      <td>BERKELEY</td>\n      <td>Y</td>\n      <td>3</td>\n      <td>2</td>\n      <td>1600</td>\n    </tr>\n    <tr>\n      <th>5</th>\n      <td>100006000.0</td>\n      <td>207.0</td>\n      <td>BERKELEY</td>\n      <td>Y</td>\n      <td>NaN</td>\n      <td>1</td>\n      <td>800</td>\n    </tr>\n    <tr>\n      <th>6</th>\n      <td>100007000.0</td>\n      <td>NaN</td>\n      <td>WASHINGTON</td>\n      <td>NaN</td>\n      <td>2</td>\n      <td>HURLEY</td>\n      <td>950</td>\n    </tr>\n    <tr>\n      <th>7</th>\n      <td>100008000.0</td>\n      <td>213.0</td>\n      <td>TREMONT</td>\n      <td>Y</td>\n      <td>1</td>\n      <td>1</td>\n      <td>NaN</td>\n    </tr>\n    <tr>\n      <th>8</th>\n      <td>100009000.0</td>\n      <td>215.0</td>\n      <td>TREMONT</td>\n      <td>Y</td>\n      <td>na</td>\n      <td>2</td>\n      <td>1800</td>\n    </tr>\n  </tbody>\n</table>\n</div>"
     },
     "metadata": {},
     "execution_count": 3
    }
   ],
   "source": [
    "df1 = pd.read_csv('https://raw.githubusercontent.com/dataoptimal/posts/master/data%20cleaning%20with%20python%20and%20pandas/property%20data.csv')\n",
    "df1"
   ]
  },
  {
   "cell_type": "code",
   "execution_count": 4,
   "metadata": {},
   "outputs": [
    {
     "output_type": "execute_result",
     "data": {
      "text/plain": [
       "           PID  ST_NUM     ST_NAME OWN_OCCUPIED  NUM_BEDROOMS NUM_BATH   SQ_FT\n",
       "0  100001000.0   104.0      PUTNAM            Y           3.0        1  1000.0\n",
       "1  100002000.0   197.0   LEXINGTON            N           3.0      1.5     NaN\n",
       "2  100003000.0     NaN   LEXINGTON            N           NaN        1   850.0\n",
       "3  100004000.0   201.0    BERKELEY           12           1.0      NaN   700.0\n",
       "4          NaN   203.0    BERKELEY            Y           3.0        2  1600.0\n",
       "5  100006000.0   207.0    BERKELEY            Y           NaN        1   800.0\n",
       "6  100007000.0     NaN  WASHINGTON          NaN           2.0   HURLEY   950.0\n",
       "7  100008000.0   213.0     TREMONT            Y           1.0        1     NaN\n",
       "8  100009000.0   215.0     TREMONT            Y           NaN        2  1800.0"
      ],
      "text/html": "<div>\n<style scoped>\n    .dataframe tbody tr th:only-of-type {\n        vertical-align: middle;\n    }\n\n    .dataframe tbody tr th {\n        vertical-align: top;\n    }\n\n    .dataframe thead th {\n        text-align: right;\n    }\n</style>\n<table border=\"1\" class=\"dataframe\">\n  <thead>\n    <tr style=\"text-align: right;\">\n      <th></th>\n      <th>PID</th>\n      <th>ST_NUM</th>\n      <th>ST_NAME</th>\n      <th>OWN_OCCUPIED</th>\n      <th>NUM_BEDROOMS</th>\n      <th>NUM_BATH</th>\n      <th>SQ_FT</th>\n    </tr>\n  </thead>\n  <tbody>\n    <tr>\n      <th>0</th>\n      <td>100001000.0</td>\n      <td>104.0</td>\n      <td>PUTNAM</td>\n      <td>Y</td>\n      <td>3.0</td>\n      <td>1</td>\n      <td>1000.0</td>\n    </tr>\n    <tr>\n      <th>1</th>\n      <td>100002000.0</td>\n      <td>197.0</td>\n      <td>LEXINGTON</td>\n      <td>N</td>\n      <td>3.0</td>\n      <td>1.5</td>\n      <td>NaN</td>\n    </tr>\n    <tr>\n      <th>2</th>\n      <td>100003000.0</td>\n      <td>NaN</td>\n      <td>LEXINGTON</td>\n      <td>N</td>\n      <td>NaN</td>\n      <td>1</td>\n      <td>850.0</td>\n    </tr>\n    <tr>\n      <th>3</th>\n      <td>100004000.0</td>\n      <td>201.0</td>\n      <td>BERKELEY</td>\n      <td>12</td>\n      <td>1.0</td>\n      <td>NaN</td>\n      <td>700.0</td>\n    </tr>\n    <tr>\n      <th>4</th>\n      <td>NaN</td>\n      <td>203.0</td>\n      <td>BERKELEY</td>\n      <td>Y</td>\n      <td>3.0</td>\n      <td>2</td>\n      <td>1600.0</td>\n    </tr>\n    <tr>\n      <th>5</th>\n      <td>100006000.0</td>\n      <td>207.0</td>\n      <td>BERKELEY</td>\n      <td>Y</td>\n      <td>NaN</td>\n      <td>1</td>\n      <td>800.0</td>\n    </tr>\n    <tr>\n      <th>6</th>\n      <td>100007000.0</td>\n      <td>NaN</td>\n      <td>WASHINGTON</td>\n      <td>NaN</td>\n      <td>2.0</td>\n      <td>HURLEY</td>\n      <td>950.0</td>\n    </tr>\n    <tr>\n      <th>7</th>\n      <td>100008000.0</td>\n      <td>213.0</td>\n      <td>TREMONT</td>\n      <td>Y</td>\n      <td>1.0</td>\n      <td>1</td>\n      <td>NaN</td>\n    </tr>\n    <tr>\n      <th>8</th>\n      <td>100009000.0</td>\n      <td>215.0</td>\n      <td>TREMONT</td>\n      <td>Y</td>\n      <td>NaN</td>\n      <td>2</td>\n      <td>1800.0</td>\n    </tr>\n  </tbody>\n</table>\n</div>"
     },
     "metadata": {},
     "execution_count": 4
    }
   ],
   "source": [
    "df2 = pd.read_csv(\n",
    "    'https://raw.githubusercontent.com/dataoptimal/posts/master/data%20cleaning%20with%20python%20and%20pandas/property%20data.csv',\n",
    "    keep_default_na=True,\n",
    "    na_values=['na', '--']\n",
    ")\n",
    "df2"
   ]
  },
  {
   "cell_type": "code",
   "execution_count": 5,
   "metadata": {},
   "outputs": [
    {
     "output_type": "execute_result",
     "data": {
      "text/plain": [
       "dtype('O')"
      ]
     },
     "metadata": {},
     "execution_count": 5
    }
   ],
   "source": [
    "df1[\"NUM_BEDROOMS\"].dtype"
   ]
  },
  {
   "cell_type": "code",
   "execution_count": 6,
   "metadata": {},
   "outputs": [
    {
     "output_type": "execute_result",
     "data": {
      "text/plain": [
       "dtype('float64')"
      ]
     },
     "metadata": {},
     "execution_count": 6
    }
   ],
   "source": [
    "df2[\"NUM_BEDROOMS\"].dtype"
   ]
  },
  {
   "cell_type": "code",
   "execution_count": 7,
   "metadata": {},
   "outputs": [
    {
     "output_type": "execute_result",
     "data": {
      "text/plain": [
       "dtype('O')"
      ]
     },
     "metadata": {},
     "execution_count": 7
    }
   ],
   "source": [
    "df1[\"SQ_FT\"].dtype"
   ]
  },
  {
   "cell_type": "code",
   "execution_count": 8,
   "metadata": {},
   "outputs": [
    {
     "output_type": "execute_result",
     "data": {
      "text/plain": [
       "dtype('float64')"
      ]
     },
     "metadata": {},
     "execution_count": 8
    }
   ],
   "source": [
    "df2[\"SQ_FT\"].dtype"
   ]
  },
  {
   "source": [
    "# →   1. 在 df1 中[\"NUM_BEDROOMS\"] & [\"SQ_FT\"] 的資料型態為 'o'(字符串 pandas 物件)\n",
    "#    2. 反之df2 中為 'float64' (浮小數點)\n",
    "#    → 在於 2. 之中有進行遺漏值的處理, 動用到了 numpy 的處理方法, 將欄變數變為浮小數點。"
   ],
   "cell_type": "code",
   "metadata": {},
   "execution_count": 9,
   "outputs": []
  },
  {
   "source": [
    "2. 請將 Dcard API 取得所有的看板資訊轉換成 DataFrame，並且依照熱門程度排序後存成一個 csv 的檔案。"
   ],
   "cell_type": "markdown",
   "metadata": {}
  },
  {
   "cell_type": "code",
   "execution_count": 10,
   "metadata": {
    "tags": [
     "outputPrepend"
    ]
   },
   "outputs": [
    {
     "output_type": "stream",
     "name": "stdout",
     "text": [
      "ster_hunter', 'name': '魔物獵人', 'description': '發文前麻煩先選擇標題分類喔~', 'subscriptionCount': 2144, 'subscribed': False, 'read': False, 'createdAt': '2021-05-28T06:24:32.242Z', 'updatedAt': '2021-07-01T11:24:37.817Z', 'canPost': False, 'ignorePost': False, 'invisible': False, 'isSchool': False, 'fullyAnonymous': False, 'canUseNickname': True, 'postThumbnail': {'size': 'small'}, 'shouldCategorized': False, 'shouldPostCategorized': False, 'hasPostCategories': True, 'titlePlaceholder': '', 'postTitlePlaceholder': '', 'ipCountryCondition': {}, 'subcategories': [], 'topics': [], 'nsfw': False, 'mediaThreshold': {}, 'limitCountries': [], 'limitStage': 0, 'availableLayouts': ['classic', 'image', 'video', 'link'], 'heroImage': {'url': 'https://megapx-assets.dcard.tw/images/5aff410a-2306-4faa-b368-95454db6df2d/orig.jpeg', 'type': 'image/jpeg', 'width': 1080, 'height': 360}, 'logo': {'url': 'https://megapx-assets.dcard.tw/images/8643c243-6d8e-4ca2-b602-2f2c08112751/full.jpeg', 'type': 'image/png', 'width': 200, 'height': 200}, 'postCount': {'last30Days': 32}, 'favorite': False, 'enablePrivateMessage': False}, {'id': '5e5e5bd5-8214-488f-8e3a-12ab90e37c3c', 'alias': 'sponsored', 'name': '贊助', 'description': '', 'subscriptionCount': 47, 'subscribed': False, 'read': False, 'createdAt': '2021-05-31T06:52:36.123Z', 'updatedAt': '2021-06-10T06:47:41.577Z', 'canPost': False, 'ignorePost': False, 'invisible': True, 'isSchool': False, 'fullyAnonymous': False, 'canUseNickname': True, 'postThumbnail': {'size': 'small'}, 'shouldCategorized': False, 'shouldPostCategorized': False, 'hasPostCategories': False, 'titlePlaceholder': '', 'postTitlePlaceholder': '', 'ipCountryCondition': {}, 'subcategories': [], 'topics': [], 'nsfw': False, 'mediaThreshold': {}, 'limitCountries': [], 'limitStage': 0, 'availableLayouts': ['classic'], 'logo': {'url': 'https://megapx-assets.dcard.tw/images/ae0980f4-f161-41ab-9e8f-d276470011a4/full.jpeg', 'type': 'image/png', 'width': 200, 'height': 200}, 'postCount': {'last30Days': 27}, 'favorite': False, 'enablePrivateMessage': False}, {'id': '19ab5226-9d84-4d5a-a730-59643b65a9d9', 'alias': 'show_goods', 'name': '曬好物', 'description': '📋 暖心提醒：\\n- 歡迎分享自己在好物購物後的實際使用心得！\\n- 如果分享的內容與商品為🔞，記得勾選「標記為🔞」唷！\\n- 分享內容要包含至少 1 張商品照片及 30 字，並請標記曾經購買的好物商品！\\n- 為了維持分享品質，曬好物文章發出後即不能刪除、修改標記商品，但隨時想編輯文章都可以唷！', 'subscriptionCount': 145, 'subscribed': False, 'read': False, 'createdAt': '2021-06-02T07:12:42.072Z', 'updatedAt': '2021-06-16T13:57:58.056Z', 'canPost': False, 'ignorePost': False, 'invisible': True, 'isSchool': False, 'fullyAnonymous': False, 'canUseNickname': True, 'postThumbnail': {'size': 'small'}, 'shouldCategorized': False, 'shouldPostCategorized': False, 'hasPostCategories': False, 'titlePlaceholder': '', 'postTitlePlaceholder': '', 'ipCountryCondition': {}, 'subcategories': [], 'topics': [], 'nsfw': False, 'mediaThreshold': {}, 'limitCountries': [], 'limitStage': 0, 'availableLayouts': ['ecSharing'], 'postCount': {'last30Days': 77}, 'favorite': False, 'enablePrivateMessage': False}, {'id': '401afe74-7a71-481d-a2b9-420ce383d3a5', 'alias': 'show_sexgoods', 'name': '曬西斯好物', 'description': '📋 暖心提醒：\\n- 歡迎分享自己在好物購入西斯玩具後的實際使用心得！\\n- 如有裸露照片，記得打好馬賽克再上傳，避免違規遭到刪除🚫\\n- 分享內容要包含至少 1 張商品照片及 30 字，並請標記曾經購買的好物商品！\\n- 為了維持分享品質，曬好物文章發出後即不能刪除、修改標記商品，但隨時想編輯文章都可以唷！', 'subscriptionCount': 2, 'subscribed': False, 'read': False, 'createdAt': '2021-06-02T07:15:42.935Z', 'updatedAt': '2021-06-16T13:58:13.523Z', 'canPost': False, 'ignorePost': True, 'invisible': True, 'isSchool': False, 'fullyAnonymous': True, 'canUseNickname': True, 'postThumbnail': {'size': 'small'}, 'shouldCategorized': False, 'shouldPostCategorized': False, 'hasPostCategories': False, 'titlePlaceholder': '', 'postTitlePlaceholder': '', 'ipCountryCondition': {}, 'subcategories': [], 'topics': [], 'nsfw': True, 'mediaThreshold': {}, 'limitCountries': [], 'limitStage': 0, 'availableLayouts': ['ecSharing'], 'postCount': {'last30Days': 7}, 'favorite': False, 'enablePrivateMessage': False}, {'id': '3f077677-d1fd-4e93-ad7a-5a4685bfa2f3', 'alias': 'jujutsu_kaisen', 'name': '咒術迴戰', 'description': \"歡迎來到咒術迴戰板 (֊'ヮ'֊)\\n\\n在這邊可以進行動漫畫、周邊、活動等討論與分享。\\n✏ 發文時請詳閱板規，並按照類別使用 # 做分類，讓板友可以方便搜尋。\\n和平相處、理性討論。\", 'subscriptionCount': 3322, 'subscribed': False, 'read': False, 'createdAt': '2021-06-04T05:21:54.443Z', 'updatedAt': '2021-06-23T13:53:50.086Z', 'canPost': False, 'ignorePost': False, 'invisible': False, 'isSchool': False, 'fullyAnonymous': False, 'canUseNickname': True, 'postThumbnail': {'size': 'small'}, 'shouldCategorized': False, 'shouldPostCategorized': False, 'hasPostCategories': True, 'titlePlaceholder': '', 'postTitlePlaceholder': '標題如有其他分類可自行添加\\n(๑•̀ᄇ•́)و✧', 'ipCountryCondition': {}, 'subcategories': [], 'topics': [], 'nsfw': False, 'mediaThreshold': {}, 'limitCountries': [], 'limitStage': 0, 'availableLayouts': ['classic', 'image', 'video', 'link'], 'heroImage': {'url': 'https://megapx-assets.dcard.tw/images/c5254ae7-694c-484b-aa6c-d3e6ddebafe7/full.jpeg', 'type': 'image/jpeg', 'width': 1800, 'height': 600}, 'logo': {'url': 'https://megapx-assets.dcard.tw/images/c568bacd-4134-4254-ba36-0cdf71ff17f5/full.jpeg', 'type': 'image/png', 'width': 200, 'height': 200}, 'postCount': {'last30Days': 67}, 'favorite': False, 'enablePrivateMessage': False}, {'id': 'e69178a2-533a-43f2-8401-1b819b7102bf', 'alias': 'attack_on_titan', 'name': '進擊的巨人', 'description': '歡迎各位多多分享有關「進擊的巨人」的資訊及劇情討論！也請務必要遵守板規，給大家一個優良的交流空間。', 'subscriptionCount': 2706, 'subscribed': False, 'read': False, 'createdAt': '2021-06-10T03:02:17.959Z', 'updatedAt': '2021-06-16T16:54:44.059Z', 'canPost': False, 'ignorePost': False, 'invisible': False, 'isSchool': False, 'fullyAnonymous': False, 'canUseNickname': True, 'postThumbnail': {'size': 'small'}, 'shouldCategorized': False, 'shouldPostCategorized': False, 'hasPostCategories': False, 'titlePlaceholder': '', 'postTitlePlaceholder': '', 'ipCountryCondition': {}, 'subcategories': [], 'topics': ['進擊的巨人', '漫畫', '動畫'], 'nsfw': False, 'mediaThreshold': {}, 'limitCountries': [], 'limitStage': 0, 'availableLayouts': ['classic', 'image', 'video', 'link'], 'heroImage': {'url': 'https://megapx-assets.dcard.tw/images/d7a71958-5566-42c1-afa2-2f457aba81ad/orig.jpeg', 'type': 'image/jpeg', 'width': 1181, 'height': 393}, 'logo': {'url': 'https://megapx-assets.dcard.tw/images/06342c1f-979d-4ee3-9348-98086da8a5cd/orig.jpeg', 'type': 'image/jpeg', 'width': 200, 'height': 200}, 'postCount': {'last30Days': 33}, 'favorite': False, 'enablePrivateMessage': False}, {'id': '3a23e13c-919f-4088-8c5c-a6a69a62de99', 'alias': 'tower_of_saviors', 'name': '神魔之塔', 'description': '本板為《神魔之塔》板，討論主旨為一切與《神魔之塔》有關之事物與話題。', 'subscriptionCount': 396, 'subscribed': False, 'read': False, 'createdAt': '2021-06-11T13:55:22.026Z', 'updatedAt': '2021-06-11T14:00:08.834Z', 'canPost': False, 'ignorePost': False, 'invisible': False, 'isSchool': False, 'fullyAnonymous': False, 'canUseNickname': True, 'postThumbnail': {'size': 'small'}, 'shouldCategorized': False, 'shouldPostCategorized': False, 'hasPostCategories': False, 'titlePlaceholder': '', 'postTitlePlaceholder': '', 'ipCountryCondition': {}, 'subcategories': [], 'topics': [], 'nsfw': False, 'mediaThreshold': {}, 'limitCountries': [], 'limitStage': 0, 'availableLayouts': ['classic', 'image', 'video', 'link'], 'heroImage': {'url': 'https://megapx-assets.dcard.tw/images/53900d9b-dcf4-4a4d-85d3-4c28ddd50612/full.jpeg', 'type': 'image/jpeg', 'width': 1800, 'height': 600}, 'logo': {'url': 'https://megapx-assets.dcard.tw/images/ca6df3bc-da4e-4359-9823-bcbcc7645c7f/full.jpeg', 'type': 'image/png', 'width': 200, 'height': 200}, 'postCount': {'last30Days': 14}, 'favorite': False, 'enablePrivateMessage': False}, {'id': 'df1b5e5c-f158-4f08-bff9-8a9822f7793a', 'alias': 'monster_strike', 'name': '怪物彈珠', 'description': '本板為《怪物彈珠》板，討論主旨為一切與《怪物彈珠》有關之事物與話題。', 'subscriptionCount': 366, 'subscribed': False, 'read': False, 'createdAt': '2021-06-11T13:56:01.035Z', 'updatedAt': '2021-06-11T13:59:32.106Z', 'canPost': False, 'ignorePost': False, 'invisible': False, 'isSchool': False, 'fullyAnonymous': False, 'canUseNickname': True, 'postThumbnail': {'size': 'small'}, 'shouldCategorized': False, 'shouldPostCategorized': False, 'hasPostCategories': False, 'titlePlaceholder': '', 'postTitlePlaceholder': '', 'ipCountryCondition': {}, 'subcategories': [], 'topics': [], 'nsfw': False, 'mediaThreshold': {}, 'limitCountries': [], 'limitStage': 0, 'availableLayouts': ['classic', 'image', 'video', 'link'], 'heroImage': {'url': 'https://megapx-assets.dcard.tw/images/516d59d5-b4d5-4c9e-a409-516fc9f7228b/full.jpeg', 'type': 'image/jpeg', 'width': 1800, 'height': 600}, 'logo': {'url': 'https://megapx-assets.dcard.tw/images/5cb75938-f300-44a7-b1f2-d9fb5cc279a8/full.jpeg', 'type': 'image/png', 'width': 200, 'height': 200}, 'postCount': {'last30Days': 7}, 'favorite': False, 'enablePrivateMessage': False}, {'id': '6abae5c6-33c2-463d-9629-d4432662c9ab', 'alias': 'rent', 'name': '租屋', 'description': '這裡是租屋板，歡迎討論租屋的大小事。目前先不開放求租或找租文，日後會再看狀況調整。\\n發文請依照格式發文。', 'subscriptionCount': 1215, 'subscribed': False, 'read': False, 'createdAt': '2021-06-17T02:34:05.102Z', 'updatedAt': '2021-07-02T02:30:32.983Z', 'canPost': False, 'ignorePost': False, 'invisible': False, 'isSchool': False, 'fullyAnonymous': False, 'canUseNickname': True, 'postThumbnail': {'size': 'small'}, 'shouldCategorized': False, 'shouldPostCategorized': False, 'hasPostCategories': True, 'titlePlaceholder': '', 'postTitlePlaceholder': '發文請於前方加上地區。 如租屋疑問(台北)。', 'ipCountryCondition': {}, 'subcategories': [], 'topics': ['台北', '租屋糾紛'], 'nsfw': False, 'mediaThreshold': {}, 'limitCountries': [], 'limitStage': 0, 'availableLayouts': ['classic', 'image', 'video', 'link'], 'heroImage': {'url': 'https://megapx-assets.dcard.tw/images/bb285585-be6a-46b3-9244-f4fe0453c113/full.jpeg', 'type': 'image/jpeg', 'width': 1800, 'height': 600}, 'logo': {'url': 'https://megapx-assets.dcard.tw/images/d5a65e10-a3a8-4f98-86ca-705856af661d/full.jpeg', 'type': 'image/png', 'width': 200, 'height': 200}, 'postCount': {'last30Days': 99}, 'favorite': False, 'enablePrivateMessage': False}, {'id': '5bced431-fdc2-49d5-acc6-9cc41c7e6532', 'alias': 'kr_drama', 'name': '韓劇', 'description': '親朋好友照過來，一起來分享韓劇的美好吧！\\n讓還沒入坑的朋友跳進大坑，也讓已經深陷韓劇泥潭的朋友脫離片荒的苦惱~\\n希望大家能一起推廣韓劇的美好嘍🇰🇷🇰🇷', 'subscriptionCount': 5585, 'subscribed': False, 'read': False, 'createdAt': '2021-06-17T02:43:42.208Z', 'updatedAt': '2021-06-17T03:42:41.125Z', 'canPost': False, 'ignorePost': False, 'invisible': False, 'isSchool': False, 'fullyAnonymous': False, 'canUseNickname': True, 'postThumbnail': {'size': 'small'}, 'shouldCategorized': False, 'shouldPostCategorized': False, 'hasPostCategories': True, 'titlePlaceholder': '', 'postTitlePlaceholder': '', 'ipCountryCondition': {}, 'subcategories': [], 'topics': [], 'nsfw': False, 'mediaThreshold': {}, 'limitCountries': [], 'limitStage': 0, 'availableLayouts': ['classic', 'image', 'video', 'link'], 'heroImage': {'url': 'https://megapx-assets.dcard.tw/images/9f9fb76b-a07a-4156-90a4-37ec9f55feda/orig.jpeg', 'type': 'image/jpeg', 'width': 380, 'height': 127}, 'logo': {'url': 'https://megapx-assets.dcard.tw/images/02f78db4-9f4f-44e0-ae46-f8b8d7612cf5/orig.jpeg', 'type': 'image/jpeg', 'width': 200, 'height': 200}, 'postCount': {'last30Days': 61}, 'favorite': False, 'enablePrivateMessage': False}, {'id': 'af1a2923-2b26-4fe1-927d-d3304616d709', 'alias': 'hkmacboy', 'name': '港澳男生', 'description': '屬於港澳男仔嘅討論區，呢到只限男仔可以po文，女仔係不能留言的！\\n要注意唔可以PO色情內容\\n歡迎大家係到討關於男仔既問題～請注意！發文字數不得少於15個字', 'subscriptionCount': 672, 'subscribed': False, 'read': False, 'createdAt': '2021-06-23T04:25:20.818Z', 'updatedAt': '2021-06-24T16:23:05.245Z', 'canPost': False, 'ignorePost': False, 'invisible': False, 'isSchool': False, 'fullyAnonymous': True, 'canUseNickname': True, 'postThumbnail': {'size': 'small'}, 'shouldCategorized': False, 'shouldPostCategorized': False, 'hasPostCategories': False, 'titlePlaceholder': '', 'postTitlePlaceholder': '', 'ipCountryCondition': {'include': []}, 'subcategories': [], 'topics': [], 'nsfw': False, 'mediaThreshold': {}, 'limitCountries': [], 'limitStage': 0, 'availableLayouts': ['classic', 'image', 'video', 'link'], 'heroImage': {'url': 'https://megapx-assets.dcard.tw/images/f6dba9d7-7d68-461e-b6a3-2a58c597b3fe/full.jpeg', 'type': 'image/jpeg', 'width': 1800, 'height': 600}, 'logo': {'url': 'https://megapx-assets.dcard.tw/images/2408233e-c4d4-439e-ab55-0ce0fc98a19c/full.jpeg', 'type': 'image/png', 'width': 200, 'height': 200}, 'postCount': {'last30Days': 23}, 'favorite': False, 'enablePrivateMessage': False}, {'id': '508d842d-eb50-4847-a63d-df9f5a06ec47', 'alias': 'hkmacentertainer', 'name': '港澳追星', 'description': '屬於港澳人嘅追星板！快啲分享下你最鐘意嘅明星同埋關於佢地嘅事啦！請注意！發文字數不得少於15個字', 'subscriptionCount': 367, 'subscribed': False, 'read': False, 'createdAt': '2021-06-23T04:28:33.091Z', 'updatedAt': '2021-06-24T11:02:06.450Z', 'canPost': False, 'ignorePost': False, 'invisible': False, 'isSchool': False, 'fullyAnonymous': False, 'canUseNickname': True, 'postThumbnail': {'size': 'small'}, 'shouldCategorized': False, 'shouldPostCategorized': False, 'hasPostCategories': False, 'titlePlaceholder': '', 'postTitlePlaceholder': '', 'ipCountryCondition': {'include': []}, 'subcategories': [], 'topics': [], 'nsfw': False, 'mediaThreshold': {}, 'limitCountries': [], 'limitStage': 0, 'availableLayouts': ['classic', 'image', 'video', 'link'], 'heroImage': {'url': 'https://megapx-assets.dcard.tw/images/3976a96d-98c7-4a71-9fe5-f925eb5d1aba/full.jpeg', 'type': 'image/jpeg', 'width': 1800, 'height': 600}, 'logo': {'url': 'https://megapx-assets.dcard.tw/images/74df2f77-0e24-4adf-923f-80e9917fbcb7/full.jpeg', 'type': 'image/png', 'width': 200, 'height': 200}, 'postCount': {'last30Days': 11}, 'favorite': False, 'enablePrivateMessage': False}, {'id': 'e44b7e81-ff65-4f8c-8c9b-1d411526655b', 'alias': 'ragnarokx_nextgeneration', 'name': 'RO：新世代的誕生', 'description': 'ROX看板提供卡友們討論攻略、情報分享、遊戲心得跟詢問RO\\n\\n仙境傳說：新世代的誕生之相關問題！', 'subscriptionCount': 49, 'subscribed': False, 'read': False, 'createdAt': '2021-06-24T06:12:55.144Z', 'updatedAt': '2021-06-24T06:17:20.796Z', 'canPost': False, 'ignorePost': False, 'invisible': False, 'isSchool': False, 'fullyAnonymous': False, 'canUseNickname': True, 'postThumbnail': {'size': 'small'}, 'shouldCategorized': False, 'shouldPostCategorized': False, 'hasPostCategories': False, 'titlePlaceholder': '', 'postTitlePlaceholder': '', 'ipCountryCondition': {}, 'subcategories': [], 'topics': [], 'nsfw': False, 'mediaThreshold': {}, 'limitCountries': [], 'limitStage': 0, 'availableLayouts': ['classic', 'image', 'video', 'link'], 'heroImage': {'url': 'https://megapx-assets.dcard.tw/images/7a078bc4-2102-4298-8ceb-265ab299c219/full.jpeg', 'type': 'image/jpeg', 'width': 1800, 'height': 600}, 'logo': {'url': 'https://megapx-assets.dcard.tw/images/038e9349-2d51-44de-a5b5-f10f9cd99c24/full.jpeg', 'type': 'image/png', 'width': 200, 'height': 200}, 'postCount': {'last30Days': 10}, 'favorite': False, 'enablePrivateMessage': False}, {'id': 'c8a16de0-b76f-450e-b0b0-29081c27495c', 'alias': 'play_together', 'name': '天天玩樂園', 'description': '本板為《天天玩樂園》板，討論主旨為一切與《天天玩樂園》有關之事物與話題。', 'subscriptionCount': 617, 'subscribed': False, 'read': False, 'createdAt': '2021-06-25T09:27:38.356Z', 'updatedAt': '2021-06-25T09:37:36.033Z', 'canPost': False, 'ignorePost': False, 'invisible': False, 'isSchool': False, 'fullyAnonymous': False, 'canUseNickname': True, 'postThumbnail': {'size': 'small'}, 'shouldCategorized': False, 'shouldPostCategorized': False, 'hasPostCategories': False, 'titlePlaceholder': '', 'postTitlePlaceholder': '', 'ipCountryCondition': {}, 'subcategories': [], 'topics': [], 'nsfw': False, 'mediaThreshold': {}, 'limitCountries': [], 'limitStage': 0, 'availableLayouts': ['classic', 'image', 'video', 'link'], 'heroImage': {'url': 'https://megapx-assets.dcard.tw/images/78ca0d97-797a-4a7f-8e75-b31b1f58fdb8/full.jpeg', 'type': 'image/jpeg', 'width': 1800, 'height': 600}, 'logo': {'url': 'https://megapx-assets.dcard.tw/images/6f43bd10-1158-46b4-ba82-f297dfe7ce59/full.jpeg', 'type': 'image/png', 'width': 200, 'height': 200}, 'postCount': {'last30Days': 16}, 'favorite': False, 'enablePrivateMessage': False}, {'id': '495d9eec-0689-44c6-9341-2b96af6bee7a', 'alias': 'dead_by_daylight', 'name': '黎明死線', 'description': '本板為《黎明死線》板，討論主旨為一切與《黎明死線》有關之事物與話題。', 'subscriptionCount': 52, 'subscribed': False, 'read': False, 'createdAt': '2021-06-25T09:28:55.547Z', 'updatedAt': '2021-06-25T09:34:56.612Z', 'canPost': False, 'ignorePost': False, 'invisible': False, 'isSchool': False, 'fullyAnonymous': False, 'canUseNickname': True, 'postThumbnail': {'size': 'small'}, 'shouldCategorized': False, 'shouldPostCategorized': False, 'hasPostCategories': False, 'titlePlaceholder': '', 'postTitlePlaceholder': '', 'ipCountryCondition': {}, 'subcategories': [], 'topics': [], 'nsfw': False, 'mediaThreshold': {}, 'limitCountries': [], 'limitStage': 0, 'availableLayouts': ['classic', 'image', 'video', 'link'], 'heroImage': {'url': 'https://megapx-assets.dcard.tw/images/8c5aeaa7-628f-4f4e-9578-cd1d7518abe4/full.jpeg', 'type': 'image/jpeg', 'width': 1800, 'height': 600}, 'logo': {'url': 'https://megapx-assets.dcard.tw/images/e1f405dd-65bb-4b3b-a021-4e3dc625a733/full.jpeg', 'type': 'image/png', 'width': 200, 'height': 200}, 'postCount': {'last30Days': 1}, 'favorite': False, 'enablePrivateMessage': False}, {'id': '0c16b7c5-1c70-4923-9175-ff8041ab2d52', 'alias': 'yoga', 'name': '瑜珈', 'description': '給熱愛瑜珈、對瑜珈有興趣的同好們，我們一起在相同興趣下努力吧。\\n不論瑜珈上的問題或是對瑜珈的想法，\\n都非常歡迎好夥伴們發文哦～\\n希望好夥伴們可以有個舒適的空間哦！\\n也要記得遵守板規規範，\\n最後祝大家在瑜珈的路上開開心心～', 'subscriptionCount': 65, 'subscribed': False, 'read': False, 'createdAt': '2021-06-30T08:46:41.541Z', 'updatedAt': '2021-06-30T09:57:26.256Z', 'canPost': False, 'ignorePost': False, 'invisible': False, 'isSchool': False, 'fullyAnonymous': False, 'canUseNickname': True, 'postThumbnail': {'size': 'small'}, 'shouldCategorized': False, 'shouldPostCategorized': False, 'hasPostCategories': True, 'titlePlaceholder': '', 'postTitlePlaceholder': '🧘🏻\\u200d♀️標題前面請分類：#資訊、#心得、#問題、#揪團、#閒聊\\n🧘🏻\\u200d♀️請加上話題：#哈達瑜珈、#熱瑜珈、#陰瑜珈、#空中瑜珈、#艾揚格瑜珈、#阿斯湯珈瑜珈、#流瑜珈、#居家瑜珈、#晨間瑜珈等\\n🧘🏻\\u200d♀️請加上標題：維持體態美、容易上手、新手可以嘗試等\\n🧘🏻\\u200d♀️標題範例：\\n#閒聊 #居家瑜珈 防疫期間也要做瑜珈\\n#心得 #流瑜珈 塑造我美好體態', 'ipCountryCondition': {}, 'subcategories': [], 'topics': [], 'nsfw': False, 'mediaThreshold': {}, 'limitCountries': [], 'limitStage': 0, 'availableLayouts': ['classic', 'image', 'video', 'link'], 'heroImage': {'url': 'https://megapx-assets.dcard.tw/images/cb047fe6-3f44-45a5-9eed-50d4d572fc9f/orig.jpeg', 'type': 'image/jpeg', 'width': 728, 'height': 242}, 'logo': {'url': 'https://megapx-assets.dcard.tw/images/d05a54ab-9ee7-4efd-a125-31f3149adf0b/orig.jpeg', 'type': 'image/jpeg', 'width': 200, 'height': 200}, 'postCount': {'last30Days': 1}, 'favorite': False, 'enablePrivateMessage': False}, {'id': '9f2e8e2f-10f4-415f-870b-eaaeb01a9505', 'alias': 'luxury_watch', 'name': '精品錶', 'description': '供討論、分享、詢問與精品錶相關的話題。請大家理性溝通、和平相處喔！', 'subscriptionCount': 271, 'subscribed': False, 'read': False, 'createdAt': '2021-06-30T09:04:50.969Z', 'updatedAt': '2021-07-02T11:09:42.023Z', 'canPost': False, 'ignorePost': False, 'invisible': False, 'isSchool': False, 'fullyAnonymous': False, 'canUseNickname': True, 'postThumbnail': {'size': 'small'}, 'shouldCategorized': False, 'shouldPostCategorized': False, 'hasPostCategories': False, 'titlePlaceholder': '', 'postTitlePlaceholder': '', 'ipCountryCondition': {}, 'subcategories': [], 'topics': [], 'nsfw': False, 'mediaThreshold': {}, 'limitCountries': [], 'limitStage': 0, 'availableLayouts': ['classic', 'image', 'video', 'link'], 'heroImage': {'url': 'https://megapx-assets.dcard.tw/images/df66dfd5-8c23-4069-b8a0-686748fa9111/full.jpeg', 'type': 'image/jpeg', 'width': 1800, 'height': 600}, 'logo': {'url': 'https://megapx-assets.dcard.tw/images/cdf88109-f640-4728-adee-8cb858c24bf8/full.jpeg', 'type': 'image/jpeg', 'width': 200, 'height': 200}, 'postCount': {'last30Days': 2}, 'favorite': False, 'enablePrivateMessage': False}]\n"
     ]
    }
   ],
   "source": [
    "import requests\n",
    "r = requests.get('https://www.dcard.tw/_api/forums')\n",
    "response = r.text\n",
    "\n",
    "import json\n",
    "data = json.loads(response)\n",
    "\n",
    "print(data)"
   ]
  },
  {
   "cell_type": "code",
   "execution_count": 11,
   "metadata": {},
   "outputs": [
    {
     "output_type": "execute_result",
     "data": {
      "text/plain": [
       "                                     id        alias        name  \\\n",
       "0  7f125e07-4460-4ea5-80b5-33f0e9aafa0c  midnightlab       午夜實驗室   \n",
       "1  c0ed3f99-ed1c-49a8-b413-ed5e925aafe4  timecapsule        時光膠囊   \n",
       "2  cc2164ae-88cd-466d-b11b-19e4b1f6f78c       mother         母親節   \n",
       "3  11e8d941-0aad-4960-8348-b27c36270fd1    merryxmas  聖誕CiaoCiao   \n",
       "4  8d5cabde-d0df-479f-8ab7-153209317537       father         父親節   \n",
       "\n",
       "                                         description  subscriptionCount  \\\n",
       "0  午夜實驗室10/6、10/7即將在華山登場！這裏提供大家交流活動資訊與討論，請大家要遵守 D...               1730   \n",
       "1  Dcard 九週年最終章！告別動盪不安的 2020，說好了，2021 我們一起活得更努力！請...               4269   \n",
       "2                              Dcard 母親節限定板，告訴媽媽我愛妳！                374   \n",
       "3           期間限定開啟！只要是和聖誕節有關的事情，或是和「禮物」有關的東西通通都來分享吧！              17068   \n",
       "4       Dcard 父親節特輯，上傳爸爸帥照，寫下真摯文字，一起謝謝我們心中的 「鋼鐵人老爸」。                367   \n",
       "\n",
       "   subscribed   read                 createdAt                 updatedAt  \\\n",
       "0       False  False  2016-05-14T19:15:15.698Z  2021-04-20T08:36:58.712Z   \n",
       "1       False  False  2016-05-14T20:15:15.698Z  2021-01-07T07:24:57.455Z   \n",
       "2       False  False  2016-05-14T22:15:15.699Z  2021-04-20T08:36:35.702Z   \n",
       "3       False  False  2016-05-17T00:11:15.742Z  2021-04-20T08:36:54.019Z   \n",
       "4       False  False  2016-05-17T00:12:15.742Z  2017-01-01T10:36:38.235Z   \n",
       "\n",
       "   canPost  ...   nsfw  mediaThreshold  limitCountries  limitStage  \\\n",
       "0    False  ...  False              {}              []           0   \n",
       "1    False  ...  False              {}              []           0   \n",
       "2    False  ...  False              {}              []           0   \n",
       "3    False  ...  False              {}              []           0   \n",
       "4    False  ...  False              {}              []           0   \n",
       "\n",
       "   availableLayouts            postCount  favorite  enablePrivateMessage  \\\n",
       "0         [classic]    {'last30Days': 1}     False                 False   \n",
       "1         [classic]  {'last30Days': 300}     False                 False   \n",
       "2         [classic]    {'last30Days': 1}     False                 False   \n",
       "3         [classic]    {'last30Days': 1}     False                 False   \n",
       "4         [classic]    {'last30Days': 0}     False                 False   \n",
       "\n",
       "                                           heroImage  \\\n",
       "0                                                NaN   \n",
       "1  {'url': 'https://megapx-assets.dcard.tw/images...   \n",
       "2                                                NaN   \n",
       "3  {'url': 'https://megapx-assets.dcard.tw/images...   \n",
       "4                                                NaN   \n",
       "\n",
       "                                                logo  \n",
       "0                                                NaN  \n",
       "1  {'url': 'https://megapx-assets.dcard.tw/images...  \n",
       "2                                                NaN  \n",
       "3  {'url': 'https://megapx-assets.dcard.tw/images...  \n",
       "4                                                NaN  \n",
       "\n",
       "[5 rows x 34 columns]"
      ],
      "text/html": "<div>\n<style scoped>\n    .dataframe tbody tr th:only-of-type {\n        vertical-align: middle;\n    }\n\n    .dataframe tbody tr th {\n        vertical-align: top;\n    }\n\n    .dataframe thead th {\n        text-align: right;\n    }\n</style>\n<table border=\"1\" class=\"dataframe\">\n  <thead>\n    <tr style=\"text-align: right;\">\n      <th></th>\n      <th>id</th>\n      <th>alias</th>\n      <th>name</th>\n      <th>description</th>\n      <th>subscriptionCount</th>\n      <th>subscribed</th>\n      <th>read</th>\n      <th>createdAt</th>\n      <th>updatedAt</th>\n      <th>canPost</th>\n      <th>...</th>\n      <th>nsfw</th>\n      <th>mediaThreshold</th>\n      <th>limitCountries</th>\n      <th>limitStage</th>\n      <th>availableLayouts</th>\n      <th>postCount</th>\n      <th>favorite</th>\n      <th>enablePrivateMessage</th>\n      <th>heroImage</th>\n      <th>logo</th>\n    </tr>\n  </thead>\n  <tbody>\n    <tr>\n      <th>0</th>\n      <td>7f125e07-4460-4ea5-80b5-33f0e9aafa0c</td>\n      <td>midnightlab</td>\n      <td>午夜實驗室</td>\n      <td>午夜實驗室10/6、10/7即將在華山登場！這裏提供大家交流活動資訊與討論，請大家要遵守 D...</td>\n      <td>1730</td>\n      <td>False</td>\n      <td>False</td>\n      <td>2016-05-14T19:15:15.698Z</td>\n      <td>2021-04-20T08:36:58.712Z</td>\n      <td>False</td>\n      <td>...</td>\n      <td>False</td>\n      <td>{}</td>\n      <td>[]</td>\n      <td>0</td>\n      <td>[classic]</td>\n      <td>{'last30Days': 1}</td>\n      <td>False</td>\n      <td>False</td>\n      <td>NaN</td>\n      <td>NaN</td>\n    </tr>\n    <tr>\n      <th>1</th>\n      <td>c0ed3f99-ed1c-49a8-b413-ed5e925aafe4</td>\n      <td>timecapsule</td>\n      <td>時光膠囊</td>\n      <td>Dcard 九週年最終章！告別動盪不安的 2020，說好了，2021 我們一起活得更努力！請...</td>\n      <td>4269</td>\n      <td>False</td>\n      <td>False</td>\n      <td>2016-05-14T20:15:15.698Z</td>\n      <td>2021-01-07T07:24:57.455Z</td>\n      <td>False</td>\n      <td>...</td>\n      <td>False</td>\n      <td>{}</td>\n      <td>[]</td>\n      <td>0</td>\n      <td>[classic]</td>\n      <td>{'last30Days': 300}</td>\n      <td>False</td>\n      <td>False</td>\n      <td>{'url': 'https://megapx-assets.dcard.tw/images...</td>\n      <td>{'url': 'https://megapx-assets.dcard.tw/images...</td>\n    </tr>\n    <tr>\n      <th>2</th>\n      <td>cc2164ae-88cd-466d-b11b-19e4b1f6f78c</td>\n      <td>mother</td>\n      <td>母親節</td>\n      <td>Dcard 母親節限定板，告訴媽媽我愛妳！</td>\n      <td>374</td>\n      <td>False</td>\n      <td>False</td>\n      <td>2016-05-14T22:15:15.699Z</td>\n      <td>2021-04-20T08:36:35.702Z</td>\n      <td>False</td>\n      <td>...</td>\n      <td>False</td>\n      <td>{}</td>\n      <td>[]</td>\n      <td>0</td>\n      <td>[classic]</td>\n      <td>{'last30Days': 1}</td>\n      <td>False</td>\n      <td>False</td>\n      <td>NaN</td>\n      <td>NaN</td>\n    </tr>\n    <tr>\n      <th>3</th>\n      <td>11e8d941-0aad-4960-8348-b27c36270fd1</td>\n      <td>merryxmas</td>\n      <td>聖誕CiaoCiao</td>\n      <td>期間限定開啟！只要是和聖誕節有關的事情，或是和「禮物」有關的東西通通都來分享吧！</td>\n      <td>17068</td>\n      <td>False</td>\n      <td>False</td>\n      <td>2016-05-17T00:11:15.742Z</td>\n      <td>2021-04-20T08:36:54.019Z</td>\n      <td>False</td>\n      <td>...</td>\n      <td>False</td>\n      <td>{}</td>\n      <td>[]</td>\n      <td>0</td>\n      <td>[classic]</td>\n      <td>{'last30Days': 1}</td>\n      <td>False</td>\n      <td>False</td>\n      <td>{'url': 'https://megapx-assets.dcard.tw/images...</td>\n      <td>{'url': 'https://megapx-assets.dcard.tw/images...</td>\n    </tr>\n    <tr>\n      <th>4</th>\n      <td>8d5cabde-d0df-479f-8ab7-153209317537</td>\n      <td>father</td>\n      <td>父親節</td>\n      <td>Dcard 父親節特輯，上傳爸爸帥照，寫下真摯文字，一起謝謝我們心中的 「鋼鐵人老爸」。</td>\n      <td>367</td>\n      <td>False</td>\n      <td>False</td>\n      <td>2016-05-17T00:12:15.742Z</td>\n      <td>2017-01-01T10:36:38.235Z</td>\n      <td>False</td>\n      <td>...</td>\n      <td>False</td>\n      <td>{}</td>\n      <td>[]</td>\n      <td>0</td>\n      <td>[classic]</td>\n      <td>{'last30Days': 0}</td>\n      <td>False</td>\n      <td>False</td>\n      <td>NaN</td>\n      <td>NaN</td>\n    </tr>\n  </tbody>\n</table>\n<p>5 rows × 34 columns</p>\n</div>"
     },
     "metadata": {},
     "execution_count": 11
    }
   ],
   "source": [
    "data = pd.DataFrame(data)\n",
    "data.head() # json 字典寫成 dataframe"
   ]
  },
  {
   "cell_type": "code",
   "execution_count": 12,
   "metadata": {},
   "outputs": [
    {
     "output_type": "execute_result",
     "data": {
      "text/plain": [
       "                                       id         alias        name  \\\n",
       "373  1ce3ebca-8701-42d5-b14c-076fc629bc8e           sex          西斯   \n",
       "228  42851318-b9e2-4a75-8a05-9fe180becefe  relationship          感情   \n",
       "224  be1a095b-175e-4523-9e06-66a05d939676       dressup          穿搭   \n",
       "217  cbd5285f-3cba-4bfc-86d0-1ab52d201459        makeup          美妝   \n",
       "233  06e07db4-c8b5-4dae-851f-e8a8236e770c          meme          梗圖   \n",
       "..                                    ...           ...         ...   \n",
       "158  d1377288-8432-4ec0-a539-e1ac6d59362c           mkc  馬偕醫護管理專科學校   \n",
       "209  36443e19-9334-42f4-b91e-95e601150f61         hkacg      港澳 ACG   \n",
       "208  1150ae79-6e67-46f2-bfec-74f8c365a4a1    hktrending        港澳時事   \n",
       "207  019f0994-375e-479a-9b08-1b8addb64cc3      hkbeauty   港澳 Beauty   \n",
       "172  9e2ea80f-3342-4533-bb7a-d639e6c517e7       athlete          選手   \n",
       "\n",
       "                                           description  subscriptionCount  \\\n",
       "373  西斯板（Sex）提供男女私密話題分享或性教育等情慾議題討論，若有性方面相關問題也可在此發問。...             596231   \n",
       "228  無論是遠距離戀愛、情侶間的有趣互動、分手後的藕斷絲連等...都可以在感情板分享你們的愛情故事...             534922   \n",
       "224  穿搭板提供各種服裝搭配、包鞋、飾品配件等相關話題討論。\\n歡迎分享自己的日常穿搭，或任何潮流...             519307   \n",
       "217  不管你喜歡開架彩妝還是專櫃彩妝，美妝板提供各種最新彩妝開箱評比、粉底色號、唇膏試色、眼影試色...             437491   \n",
       "233                                            梗圖=有梗的圖             402286   \n",
       "..                                                 ...                ...   \n",
       "158  馬偕醫護管理專科學校板，一個能讓你暢所欲言的地方。在這裡，卡友們可以盡情討論校園裡的大小事，...                  0   \n",
       "209           呢度係比香港澳門既同學仔討論同分享各種動漫、遊戲嘅討論區，發文留言前請先閱讀板規                  0   \n",
       "208           呢度係比香港澳門嘅同學仔討論同港澳有關既時事議題嘅討論區，發文留言前請先閱讀板規                  0   \n",
       "207    呢度係比香港澳門嘅同學仔討論化妝、護膚、美髮、任何扮靚相關話題嘅討論區，發文留言前請先閱讀板規                  0   \n",
       "172                                                                     0   \n",
       "\n",
       "     subscribed   read                 createdAt                 updatedAt  \\\n",
       "373       False  False  2020-02-04T07:52:53.573Z  2021-06-24T04:50:12.522Z   \n",
       "228       False  False  2020-02-04T07:28:43.573Z  2021-04-20T08:36:40.391Z   \n",
       "224       False  False  2020-02-04T07:28:03.573Z  2021-04-20T08:36:37.330Z   \n",
       "217       False  False  2020-02-04T07:26:53.573Z  2021-06-25T07:07:20.485Z   \n",
       "233       False  False  2020-02-04T07:29:33.573Z  2020-08-31T09:47:51.769Z   \n",
       "..          ...    ...                       ...                       ...   \n",
       "158       False  False  2016-09-23T09:35:46.370Z  2020-08-13T08:58:10.340Z   \n",
       "209       False  False  2020-01-02T03:23:17.450Z  2021-04-20T10:12:05.365Z   \n",
       "208       False  False  2020-01-02T03:22:36.962Z  2021-04-20T10:31:36.975Z   \n",
       "207       False  False  2020-01-02T03:21:28.406Z  2021-04-20T10:15:48.549Z   \n",
       "172       False  False  2017-08-22T05:22:03.772Z  2020-08-13T06:02:20.625Z   \n",
       "\n",
       "     canPost  ...   nsfw                          mediaThreshold  \\\n",
       "373    False  ...   True  {'RACY': 1, 'ADULT': 1, 'VIOLENCE': 1}   \n",
       "228    False  ...  False                                      {}   \n",
       "224    False  ...  False                                      {}   \n",
       "217    False  ...  False                                      {}   \n",
       "233    False  ...  False                                      {}   \n",
       "..       ...  ...    ...                                     ...   \n",
       "158    False  ...  False                                      {}   \n",
       "209    False  ...  False                                      {}   \n",
       "208    False  ...  False                                      {}   \n",
       "207    False  ...  False                                      {}   \n",
       "172    False  ...  False                                      {}   \n",
       "\n",
       "     limitCountries  limitStage               availableLayouts  \\\n",
       "373              []           0                      [classic]   \n",
       "228              []           0                      [classic]   \n",
       "224              []           0                [classic, link]   \n",
       "217              []           0                      [classic]   \n",
       "233              []           0                        [image]   \n",
       "..              ...         ...                            ...   \n",
       "158              []           0                [classic, link]   \n",
       "209        [HK, MO]           0  [classic, image, video, link]   \n",
       "208        [HK, MO]           0  [classic, image, video, link]   \n",
       "207        [HK, MO]           0  [classic, image, video, link]   \n",
       "172              []           0                [classic, link]   \n",
       "\n",
       "                 postCount  favorite  enablePrivateMessage  \\\n",
       "373   {'last30Days': 5613}     False                 False   \n",
       "228  {'last30Days': 11369}     False                 False   \n",
       "224   {'last30Days': 1305}     False                 False   \n",
       "217   {'last30Days': 3099}     False                 False   \n",
       "233   {'last30Days': 3045}     False                 False   \n",
       "..                     ...       ...                   ...   \n",
       "158    {'last30Days': 134}     False                 False   \n",
       "209     {'last30Days': 32}     False                 False   \n",
       "208     {'last30Days': 67}     False                 False   \n",
       "207     {'last30Days': 42}     False                 False   \n",
       "172      {'last30Days': 1}     False                 False   \n",
       "\n",
       "                                             heroImage  \\\n",
       "373  {'url': 'https://megapx-assets.dcard.tw/images...   \n",
       "228  {'url': 'https://megapx-assets.dcard.tw/images...   \n",
       "224  {'url': 'https://megapx-assets.dcard.tw/images...   \n",
       "217  {'url': 'https://megapx-assets.dcard.tw/images...   \n",
       "233  {'url': 'https://megapx-assets.dcard.tw/images...   \n",
       "..                                                 ...   \n",
       "158  {'url': 'https://megapx-assets.dcard.tw/images...   \n",
       "209  {'url': 'https://megapx-assets.dcard.tw/images...   \n",
       "208  {'url': 'https://megapx-assets.dcard.tw/images...   \n",
       "207  {'url': 'https://megapx-assets.dcard.tw/images...   \n",
       "172                                                NaN   \n",
       "\n",
       "                                                  logo  \n",
       "373  {'url': 'https://megapx-assets.dcard.tw/images...  \n",
       "228  {'url': 'https://megapx-assets.dcard.tw/images...  \n",
       "224  {'url': 'https://megapx-assets.dcard.tw/images...  \n",
       "217  {'url': 'https://megapx-assets.dcard.tw/images...  \n",
       "233  {'url': 'https://megapx-assets.dcard.tw/images...  \n",
       "..                                                 ...  \n",
       "158  {'url': 'https://megapx-assets.dcard.tw/images...  \n",
       "209  {'url': 'https://megapx-assets.dcard.tw/images...  \n",
       "208  {'url': 'https://megapx-assets.dcard.tw/images...  \n",
       "207  {'url': 'https://megapx-assets.dcard.tw/images...  \n",
       "172                                                NaN  \n",
       "\n",
       "[507 rows x 34 columns]"
      ],
      "text/html": "<div>\n<style scoped>\n    .dataframe tbody tr th:only-of-type {\n        vertical-align: middle;\n    }\n\n    .dataframe tbody tr th {\n        vertical-align: top;\n    }\n\n    .dataframe thead th {\n        text-align: right;\n    }\n</style>\n<table border=\"1\" class=\"dataframe\">\n  <thead>\n    <tr style=\"text-align: right;\">\n      <th></th>\n      <th>id</th>\n      <th>alias</th>\n      <th>name</th>\n      <th>description</th>\n      <th>subscriptionCount</th>\n      <th>subscribed</th>\n      <th>read</th>\n      <th>createdAt</th>\n      <th>updatedAt</th>\n      <th>canPost</th>\n      <th>...</th>\n      <th>nsfw</th>\n      <th>mediaThreshold</th>\n      <th>limitCountries</th>\n      <th>limitStage</th>\n      <th>availableLayouts</th>\n      <th>postCount</th>\n      <th>favorite</th>\n      <th>enablePrivateMessage</th>\n      <th>heroImage</th>\n      <th>logo</th>\n    </tr>\n  </thead>\n  <tbody>\n    <tr>\n      <th>373</th>\n      <td>1ce3ebca-8701-42d5-b14c-076fc629bc8e</td>\n      <td>sex</td>\n      <td>西斯</td>\n      <td>西斯板（Sex）提供男女私密話題分享或性教育等情慾議題討論，若有性方面相關問題也可在此發問。...</td>\n      <td>596231</td>\n      <td>False</td>\n      <td>False</td>\n      <td>2020-02-04T07:52:53.573Z</td>\n      <td>2021-06-24T04:50:12.522Z</td>\n      <td>False</td>\n      <td>...</td>\n      <td>True</td>\n      <td>{'RACY': 1, 'ADULT': 1, 'VIOLENCE': 1}</td>\n      <td>[]</td>\n      <td>0</td>\n      <td>[classic]</td>\n      <td>{'last30Days': 5613}</td>\n      <td>False</td>\n      <td>False</td>\n      <td>{'url': 'https://megapx-assets.dcard.tw/images...</td>\n      <td>{'url': 'https://megapx-assets.dcard.tw/images...</td>\n    </tr>\n    <tr>\n      <th>228</th>\n      <td>42851318-b9e2-4a75-8a05-9fe180becefe</td>\n      <td>relationship</td>\n      <td>感情</td>\n      <td>無論是遠距離戀愛、情侶間的有趣互動、分手後的藕斷絲連等...都可以在感情板分享你們的愛情故事...</td>\n      <td>534922</td>\n      <td>False</td>\n      <td>False</td>\n      <td>2020-02-04T07:28:43.573Z</td>\n      <td>2021-04-20T08:36:40.391Z</td>\n      <td>False</td>\n      <td>...</td>\n      <td>False</td>\n      <td>{}</td>\n      <td>[]</td>\n      <td>0</td>\n      <td>[classic]</td>\n      <td>{'last30Days': 11369}</td>\n      <td>False</td>\n      <td>False</td>\n      <td>{'url': 'https://megapx-assets.dcard.tw/images...</td>\n      <td>{'url': 'https://megapx-assets.dcard.tw/images...</td>\n    </tr>\n    <tr>\n      <th>224</th>\n      <td>be1a095b-175e-4523-9e06-66a05d939676</td>\n      <td>dressup</td>\n      <td>穿搭</td>\n      <td>穿搭板提供各種服裝搭配、包鞋、飾品配件等相關話題討論。\\n歡迎分享自己的日常穿搭，或任何潮流...</td>\n      <td>519307</td>\n      <td>False</td>\n      <td>False</td>\n      <td>2020-02-04T07:28:03.573Z</td>\n      <td>2021-04-20T08:36:37.330Z</td>\n      <td>False</td>\n      <td>...</td>\n      <td>False</td>\n      <td>{}</td>\n      <td>[]</td>\n      <td>0</td>\n      <td>[classic, link]</td>\n      <td>{'last30Days': 1305}</td>\n      <td>False</td>\n      <td>False</td>\n      <td>{'url': 'https://megapx-assets.dcard.tw/images...</td>\n      <td>{'url': 'https://megapx-assets.dcard.tw/images...</td>\n    </tr>\n    <tr>\n      <th>217</th>\n      <td>cbd5285f-3cba-4bfc-86d0-1ab52d201459</td>\n      <td>makeup</td>\n      <td>美妝</td>\n      <td>不管你喜歡開架彩妝還是專櫃彩妝，美妝板提供各種最新彩妝開箱評比、粉底色號、唇膏試色、眼影試色...</td>\n      <td>437491</td>\n      <td>False</td>\n      <td>False</td>\n      <td>2020-02-04T07:26:53.573Z</td>\n      <td>2021-06-25T07:07:20.485Z</td>\n      <td>False</td>\n      <td>...</td>\n      <td>False</td>\n      <td>{}</td>\n      <td>[]</td>\n      <td>0</td>\n      <td>[classic]</td>\n      <td>{'last30Days': 3099}</td>\n      <td>False</td>\n      <td>False</td>\n      <td>{'url': 'https://megapx-assets.dcard.tw/images...</td>\n      <td>{'url': 'https://megapx-assets.dcard.tw/images...</td>\n    </tr>\n    <tr>\n      <th>233</th>\n      <td>06e07db4-c8b5-4dae-851f-e8a8236e770c</td>\n      <td>meme</td>\n      <td>梗圖</td>\n      <td>梗圖=有梗的圖</td>\n      <td>402286</td>\n      <td>False</td>\n      <td>False</td>\n      <td>2020-02-04T07:29:33.573Z</td>\n      <td>2020-08-31T09:47:51.769Z</td>\n      <td>False</td>\n      <td>...</td>\n      <td>False</td>\n      <td>{}</td>\n      <td>[]</td>\n      <td>0</td>\n      <td>[image]</td>\n      <td>{'last30Days': 3045}</td>\n      <td>False</td>\n      <td>False</td>\n      <td>{'url': 'https://megapx-assets.dcard.tw/images...</td>\n      <td>{'url': 'https://megapx-assets.dcard.tw/images...</td>\n    </tr>\n    <tr>\n      <th>...</th>\n      <td>...</td>\n      <td>...</td>\n      <td>...</td>\n      <td>...</td>\n      <td>...</td>\n      <td>...</td>\n      <td>...</td>\n      <td>...</td>\n      <td>...</td>\n      <td>...</td>\n      <td>...</td>\n      <td>...</td>\n      <td>...</td>\n      <td>...</td>\n      <td>...</td>\n      <td>...</td>\n      <td>...</td>\n      <td>...</td>\n      <td>...</td>\n      <td>...</td>\n      <td>...</td>\n    </tr>\n    <tr>\n      <th>158</th>\n      <td>d1377288-8432-4ec0-a539-e1ac6d59362c</td>\n      <td>mkc</td>\n      <td>馬偕醫護管理專科學校</td>\n      <td>馬偕醫護管理專科學校板，一個能讓你暢所欲言的地方。在這裡，卡友們可以盡情討論校園裡的大小事，...</td>\n      <td>0</td>\n      <td>False</td>\n      <td>False</td>\n      <td>2016-09-23T09:35:46.370Z</td>\n      <td>2020-08-13T08:58:10.340Z</td>\n      <td>False</td>\n      <td>...</td>\n      <td>False</td>\n      <td>{}</td>\n      <td>[]</td>\n      <td>0</td>\n      <td>[classic, link]</td>\n      <td>{'last30Days': 134}</td>\n      <td>False</td>\n      <td>False</td>\n      <td>{'url': 'https://megapx-assets.dcard.tw/images...</td>\n      <td>{'url': 'https://megapx-assets.dcard.tw/images...</td>\n    </tr>\n    <tr>\n      <th>209</th>\n      <td>36443e19-9334-42f4-b91e-95e601150f61</td>\n      <td>hkacg</td>\n      <td>港澳 ACG</td>\n      <td>呢度係比香港澳門既同學仔討論同分享各種動漫、遊戲嘅討論區，發文留言前請先閱讀板規</td>\n      <td>0</td>\n      <td>False</td>\n      <td>False</td>\n      <td>2020-01-02T03:23:17.450Z</td>\n      <td>2021-04-20T10:12:05.365Z</td>\n      <td>False</td>\n      <td>...</td>\n      <td>False</td>\n      <td>{}</td>\n      <td>[HK, MO]</td>\n      <td>0</td>\n      <td>[classic, image, video, link]</td>\n      <td>{'last30Days': 32}</td>\n      <td>False</td>\n      <td>False</td>\n      <td>{'url': 'https://megapx-assets.dcard.tw/images...</td>\n      <td>{'url': 'https://megapx-assets.dcard.tw/images...</td>\n    </tr>\n    <tr>\n      <th>208</th>\n      <td>1150ae79-6e67-46f2-bfec-74f8c365a4a1</td>\n      <td>hktrending</td>\n      <td>港澳時事</td>\n      <td>呢度係比香港澳門嘅同學仔討論同港澳有關既時事議題嘅討論區，發文留言前請先閱讀板規</td>\n      <td>0</td>\n      <td>False</td>\n      <td>False</td>\n      <td>2020-01-02T03:22:36.962Z</td>\n      <td>2021-04-20T10:31:36.975Z</td>\n      <td>False</td>\n      <td>...</td>\n      <td>False</td>\n      <td>{}</td>\n      <td>[HK, MO]</td>\n      <td>0</td>\n      <td>[classic, image, video, link]</td>\n      <td>{'last30Days': 67}</td>\n      <td>False</td>\n      <td>False</td>\n      <td>{'url': 'https://megapx-assets.dcard.tw/images...</td>\n      <td>{'url': 'https://megapx-assets.dcard.tw/images...</td>\n    </tr>\n    <tr>\n      <th>207</th>\n      <td>019f0994-375e-479a-9b08-1b8addb64cc3</td>\n      <td>hkbeauty</td>\n      <td>港澳 Beauty</td>\n      <td>呢度係比香港澳門嘅同學仔討論化妝、護膚、美髮、任何扮靚相關話題嘅討論區，發文留言前請先閱讀板規</td>\n      <td>0</td>\n      <td>False</td>\n      <td>False</td>\n      <td>2020-01-02T03:21:28.406Z</td>\n      <td>2021-04-20T10:15:48.549Z</td>\n      <td>False</td>\n      <td>...</td>\n      <td>False</td>\n      <td>{}</td>\n      <td>[HK, MO]</td>\n      <td>0</td>\n      <td>[classic, image, video, link]</td>\n      <td>{'last30Days': 42}</td>\n      <td>False</td>\n      <td>False</td>\n      <td>{'url': 'https://megapx-assets.dcard.tw/images...</td>\n      <td>{'url': 'https://megapx-assets.dcard.tw/images...</td>\n    </tr>\n    <tr>\n      <th>172</th>\n      <td>9e2ea80f-3342-4533-bb7a-d639e6c517e7</td>\n      <td>athlete</td>\n      <td>選手</td>\n      <td></td>\n      <td>0</td>\n      <td>False</td>\n      <td>False</td>\n      <td>2017-08-22T05:22:03.772Z</td>\n      <td>2020-08-13T06:02:20.625Z</td>\n      <td>False</td>\n      <td>...</td>\n      <td>False</td>\n      <td>{}</td>\n      <td>[]</td>\n      <td>0</td>\n      <td>[classic, link]</td>\n      <td>{'last30Days': 1}</td>\n      <td>False</td>\n      <td>False</td>\n      <td>NaN</td>\n      <td>NaN</td>\n    </tr>\n  </tbody>\n</table>\n<p>507 rows × 34 columns</p>\n</div>"
     },
     "metadata": {},
     "execution_count": 12
    }
   ],
   "source": [
    "# 依照熱門程度(subscriptionCount)排序後存成一個 csv 的檔案。\n",
    "data = data.sort_values(by=[\"subscriptionCount\"], ascending=False) # 由大排到小\n",
    "data"
   ]
  },
  {
   "cell_type": "code",
   "execution_count": 19,
   "metadata": {},
   "outputs": [],
   "source": [
    "del data[\"description\"]"
   ]
  },
  {
   "cell_type": "code",
   "execution_count": 20,
   "metadata": {},
   "outputs": [
    {
     "output_type": "execute_result",
     "data": {
      "text/plain": [
       "            alias name  subscriptionCount  subscribed   read  \\\n",
       "373           sex   西斯             596231       False  False   \n",
       "228  relationship   感情             534922       False  False   \n",
       "224       dressup   穿搭             519307       False  False   \n",
       "217        makeup   美妝             437491       False  False   \n",
       "233          meme   梗圖             402286       False  False   \n",
       "\n",
       "                    createdAt                 updatedAt  canPost  ignorePost  \\\n",
       "373  2020-02-04T07:52:53.573Z  2021-06-24T04:50:12.522Z    False        True   \n",
       "228  2020-02-04T07:28:43.573Z  2021-04-20T08:36:40.391Z    False       False   \n",
       "224  2020-02-04T07:28:03.573Z  2021-04-20T08:36:37.330Z    False       False   \n",
       "217  2020-02-04T07:26:53.573Z  2021-06-25T07:07:20.485Z    False       False   \n",
       "233  2020-02-04T07:29:33.573Z  2020-08-31T09:47:51.769Z    False        True   \n",
       "\n",
       "     invisible  ...   nsfw                          mediaThreshold  \\\n",
       "373       True  ...   True  {'RACY': 1, 'ADULT': 1, 'VIOLENCE': 1}   \n",
       "228      False  ...  False                                      {}   \n",
       "224      False  ...  False                                      {}   \n",
       "217      False  ...  False                                      {}   \n",
       "233      False  ...  False                                      {}   \n",
       "\n",
       "     limitCountries limitStage  availableLayouts              postCount  \\\n",
       "373              []          0         [classic]   {'last30Days': 5613}   \n",
       "228              []          0         [classic]  {'last30Days': 11369}   \n",
       "224              []          0   [classic, link]   {'last30Days': 1305}   \n",
       "217              []          0         [classic]   {'last30Days': 3099}   \n",
       "233              []          0           [image]   {'last30Days': 3045}   \n",
       "\n",
       "     favorite enablePrivateMessage  \\\n",
       "373     False                False   \n",
       "228     False                False   \n",
       "224     False                False   \n",
       "217     False                False   \n",
       "233     False                False   \n",
       "\n",
       "                                             heroImage  \\\n",
       "373  {'url': 'https://megapx-assets.dcard.tw/images...   \n",
       "228  {'url': 'https://megapx-assets.dcard.tw/images...   \n",
       "224  {'url': 'https://megapx-assets.dcard.tw/images...   \n",
       "217  {'url': 'https://megapx-assets.dcard.tw/images...   \n",
       "233  {'url': 'https://megapx-assets.dcard.tw/images...   \n",
       "\n",
       "                                                  logo  \n",
       "373  {'url': 'https://megapx-assets.dcard.tw/images...  \n",
       "228  {'url': 'https://megapx-assets.dcard.tw/images...  \n",
       "224  {'url': 'https://megapx-assets.dcard.tw/images...  \n",
       "217  {'url': 'https://megapx-assets.dcard.tw/images...  \n",
       "233  {'url': 'https://megapx-assets.dcard.tw/images...  \n",
       "\n",
       "[5 rows x 32 columns]"
      ],
      "text/html": "<div>\n<style scoped>\n    .dataframe tbody tr th:only-of-type {\n        vertical-align: middle;\n    }\n\n    .dataframe tbody tr th {\n        vertical-align: top;\n    }\n\n    .dataframe thead th {\n        text-align: right;\n    }\n</style>\n<table border=\"1\" class=\"dataframe\">\n  <thead>\n    <tr style=\"text-align: right;\">\n      <th></th>\n      <th>alias</th>\n      <th>name</th>\n      <th>subscriptionCount</th>\n      <th>subscribed</th>\n      <th>read</th>\n      <th>createdAt</th>\n      <th>updatedAt</th>\n      <th>canPost</th>\n      <th>ignorePost</th>\n      <th>invisible</th>\n      <th>...</th>\n      <th>nsfw</th>\n      <th>mediaThreshold</th>\n      <th>limitCountries</th>\n      <th>limitStage</th>\n      <th>availableLayouts</th>\n      <th>postCount</th>\n      <th>favorite</th>\n      <th>enablePrivateMessage</th>\n      <th>heroImage</th>\n      <th>logo</th>\n    </tr>\n  </thead>\n  <tbody>\n    <tr>\n      <th>373</th>\n      <td>sex</td>\n      <td>西斯</td>\n      <td>596231</td>\n      <td>False</td>\n      <td>False</td>\n      <td>2020-02-04T07:52:53.573Z</td>\n      <td>2021-06-24T04:50:12.522Z</td>\n      <td>False</td>\n      <td>True</td>\n      <td>True</td>\n      <td>...</td>\n      <td>True</td>\n      <td>{'RACY': 1, 'ADULT': 1, 'VIOLENCE': 1}</td>\n      <td>[]</td>\n      <td>0</td>\n      <td>[classic]</td>\n      <td>{'last30Days': 5613}</td>\n      <td>False</td>\n      <td>False</td>\n      <td>{'url': 'https://megapx-assets.dcard.tw/images...</td>\n      <td>{'url': 'https://megapx-assets.dcard.tw/images...</td>\n    </tr>\n    <tr>\n      <th>228</th>\n      <td>relationship</td>\n      <td>感情</td>\n      <td>534922</td>\n      <td>False</td>\n      <td>False</td>\n      <td>2020-02-04T07:28:43.573Z</td>\n      <td>2021-04-20T08:36:40.391Z</td>\n      <td>False</td>\n      <td>False</td>\n      <td>False</td>\n      <td>...</td>\n      <td>False</td>\n      <td>{}</td>\n      <td>[]</td>\n      <td>0</td>\n      <td>[classic]</td>\n      <td>{'last30Days': 11369}</td>\n      <td>False</td>\n      <td>False</td>\n      <td>{'url': 'https://megapx-assets.dcard.tw/images...</td>\n      <td>{'url': 'https://megapx-assets.dcard.tw/images...</td>\n    </tr>\n    <tr>\n      <th>224</th>\n      <td>dressup</td>\n      <td>穿搭</td>\n      <td>519307</td>\n      <td>False</td>\n      <td>False</td>\n      <td>2020-02-04T07:28:03.573Z</td>\n      <td>2021-04-20T08:36:37.330Z</td>\n      <td>False</td>\n      <td>False</td>\n      <td>False</td>\n      <td>...</td>\n      <td>False</td>\n      <td>{}</td>\n      <td>[]</td>\n      <td>0</td>\n      <td>[classic, link]</td>\n      <td>{'last30Days': 1305}</td>\n      <td>False</td>\n      <td>False</td>\n      <td>{'url': 'https://megapx-assets.dcard.tw/images...</td>\n      <td>{'url': 'https://megapx-assets.dcard.tw/images...</td>\n    </tr>\n    <tr>\n      <th>217</th>\n      <td>makeup</td>\n      <td>美妝</td>\n      <td>437491</td>\n      <td>False</td>\n      <td>False</td>\n      <td>2020-02-04T07:26:53.573Z</td>\n      <td>2021-06-25T07:07:20.485Z</td>\n      <td>False</td>\n      <td>False</td>\n      <td>False</td>\n      <td>...</td>\n      <td>False</td>\n      <td>{}</td>\n      <td>[]</td>\n      <td>0</td>\n      <td>[classic]</td>\n      <td>{'last30Days': 3099}</td>\n      <td>False</td>\n      <td>False</td>\n      <td>{'url': 'https://megapx-assets.dcard.tw/images...</td>\n      <td>{'url': 'https://megapx-assets.dcard.tw/images...</td>\n    </tr>\n    <tr>\n      <th>233</th>\n      <td>meme</td>\n      <td>梗圖</td>\n      <td>402286</td>\n      <td>False</td>\n      <td>False</td>\n      <td>2020-02-04T07:29:33.573Z</td>\n      <td>2020-08-31T09:47:51.769Z</td>\n      <td>False</td>\n      <td>True</td>\n      <td>False</td>\n      <td>...</td>\n      <td>False</td>\n      <td>{}</td>\n      <td>[]</td>\n      <td>0</td>\n      <td>[image]</td>\n      <td>{'last30Days': 3045}</td>\n      <td>False</td>\n      <td>False</td>\n      <td>{'url': 'https://megapx-assets.dcard.tw/images...</td>\n      <td>{'url': 'https://megapx-assets.dcard.tw/images...</td>\n    </tr>\n  </tbody>\n</table>\n<p>5 rows × 32 columns</p>\n</div>"
     },
     "metadata": {},
     "execution_count": 20
    }
   ],
   "source": [
    "data.head()"
   ]
  },
  {
   "cell_type": "code",
   "execution_count": 21,
   "metadata": {},
   "outputs": [],
   "source": [
    "data.to_csv(\"./dcard看板資訊.csv\", index=False, sep=\",\") # 在跟目錄新增 dcard看板資訊的 csv 檔案\n"
   ]
  },
  {
   "cell_type": "code",
   "execution_count": null,
   "metadata": {},
   "outputs": [],
   "source": []
  }
 ]
}